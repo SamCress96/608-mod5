{
 "cells": [
  {
   "cell_type": "markdown",
   "id": "bd9d1141",
   "metadata": {},
   "source": [
    "## 8.2 Formating Strings"
   ]
  },
  {
   "cell_type": "markdown",
   "id": "ca92dd09",
   "metadata": {},
   "source": [
    "8.2.1 Presentation Types"
   ]
  },
  {
   "cell_type": "markdown",
   "id": "e4ed1e02",
   "metadata": {},
   "source": [
    "When you specify a placeholder for a value in an f-string, Python assumes the value should be displayed as a string unless you specify another type. In some cases, the type is required. For example, let’s format the float value 17.489 rounded to the hundredths position:\n",
    "In [1]: f'{17.489:.2f}'"
   ]
  },
  {
   "cell_type": "code",
   "execution_count": 1,
   "id": "45a17689",
   "metadata": {},
   "outputs": [
    {
     "data": {
      "text/plain": [
       "'17.49'"
      ]
     },
     "execution_count": 1,
     "metadata": {},
     "output_type": "execute_result"
    }
   ],
   "source": [
    "f'{17.489:.2f}'"
   ]
  },
  {
   "cell_type": "markdown",
   "id": "6981a833",
   "metadata": {},
   "source": [
    "The d presentation type formats integer values as strings:"
   ]
  },
  {
   "cell_type": "code",
   "execution_count": 2,
   "id": "a31da66f",
   "metadata": {},
   "outputs": [
    {
     "data": {
      "text/plain": [
       "'10'"
      ]
     },
     "execution_count": 2,
     "metadata": {},
     "output_type": "execute_result"
    }
   ],
   "source": [
    "f'{10:d}'"
   ]
  },
  {
   "cell_type": "markdown",
   "id": "3dffefb7",
   "metadata": {},
   "source": [
    "The c presentation type formats an integer character code as the corresponding character:"
   ]
  },
  {
   "cell_type": "code",
   "execution_count": 3,
   "id": "40d61589",
   "metadata": {},
   "outputs": [
    {
     "data": {
      "text/plain": [
       "'A a'"
      ]
     },
     "execution_count": 3,
     "metadata": {},
     "output_type": "execute_result"
    }
   ],
   "source": [
    "f'{65:c} {97:c}'"
   ]
  },
  {
   "cell_type": "markdown",
   "id": "fd53fc02",
   "metadata": {},
   "source": [
    "Strings"
   ]
  },
  {
   "cell_type": "markdown",
   "id": "38cfd932",
   "metadata": {},
   "source": [
    "The s presentation type is the default. If you specify s explicitly, the value to format must be a variable that references a string, an expression that produces a string or a string literal, as in the first placeholder below. If you do not specify a presentation type, as in the second placeholder below, non-string values like the integer 7 are converted to strings:"
   ]
  },
  {
   "cell_type": "code",
   "execution_count": 4,
   "id": "eb6016e8",
   "metadata": {},
   "outputs": [
    {
     "data": {
      "text/plain": [
       "'hello 7'"
      ]
     },
     "execution_count": 4,
     "metadata": {},
     "output_type": "execute_result"
    }
   ],
   "source": [
    "f'{\"hello\":s} {7}'"
   ]
  },
  {
   "cell_type": "markdown",
   "id": "dd8a5a54",
   "metadata": {},
   "source": [
    "Floating-Point and Decimal Values"
   ]
  },
  {
   "cell_type": "markdown",
   "id": "186b6cff",
   "metadata": {},
   "source": [
    "Let’s show the difference between f and e for a large value, each with three digits of precision to the right of the decimal point:"
   ]
  },
  {
   "cell_type": "code",
   "execution_count": 5,
   "id": "5608b365",
   "metadata": {},
   "outputs": [],
   "source": [
    "from decimal import Decimal"
   ]
  },
  {
   "cell_type": "code",
   "execution_count": 6,
   "id": "62442baf",
   "metadata": {},
   "outputs": [
    {
     "data": {
      "text/plain": [
       "'10000000000000000000000000.000'"
      ]
     },
     "execution_count": 6,
     "metadata": {},
     "output_type": "execute_result"
    }
   ],
   "source": [
    "f'{Decimal(\"10000000000000000000000000.0\"):.3f}'"
   ]
  },
  {
   "cell_type": "code",
   "execution_count": 7,
   "id": "d89494d2",
   "metadata": {},
   "outputs": [
    {
     "data": {
      "text/plain": [
       "'1.000e+25'"
      ]
     },
     "execution_count": 7,
     "metadata": {},
     "output_type": "execute_result"
    }
   ],
   "source": [
    "f'{Decimal(\"10000000000000000000000000.0\"):.3e}'"
   ]
  },
  {
   "cell_type": "markdown",
   "id": "f80d10a3",
   "metadata": {},
   "source": [
    "For the e presentation type in snippet [5], the formatted value 1.000e+25 is equivalent to"
   ]
  },
  {
   "cell_type": "markdown",
   "id": "826fc38b",
   "metadata": {},
   "source": [
    "1.000 x 10^25"
   ]
  },
  {
   "cell_type": "markdown",
   "id": "7a0ccfb8",
   "metadata": {},
   "source": [
    "Self Check: use the type specifier c to display the characters that correspond to the character codes 58, 45 and 41."
   ]
  },
  {
   "cell_type": "code",
   "execution_count": 8,
   "id": "cff9aad3",
   "metadata": {},
   "outputs": [
    {
     "name": "stdout",
     "output_type": "stream",
     "text": [
      ":-)\n"
     ]
    }
   ],
   "source": [
    "print(f'{58:c}{45:c}{41:c}')"
   ]
  },
  {
   "cell_type": "markdown",
   "id": "8ab21148",
   "metadata": {},
   "source": [
    "8.2.2 Field Widths and Alignment"
   ]
  },
  {
   "cell_type": "markdown",
   "id": "ce9cd55d",
   "metadata": {},
   "source": [
    "By default, Python\n",
    "right0-aligns\n",
    "numbers and \n",
    "left-aligns\n",
    "other values such as strings—we enclose the results below in brackets ([]) so you can see how the values align in the field:"
   ]
  },
  {
   "cell_type": "code",
   "execution_count": 9,
   "id": "60f1e57b",
   "metadata": {},
   "outputs": [
    {
     "data": {
      "text/plain": [
       "'[        27]'"
      ]
     },
     "execution_count": 9,
     "metadata": {},
     "output_type": "execute_result"
    }
   ],
   "source": [
    "f'[{27:10d}]'"
   ]
  },
  {
   "cell_type": "code",
   "execution_count": 10,
   "id": "cadf914a",
   "metadata": {},
   "outputs": [
    {
     "data": {
      "text/plain": [
       "'[  3.500000]'"
      ]
     },
     "execution_count": 10,
     "metadata": {},
     "output_type": "execute_result"
    }
   ],
   "source": [
    "f'[{3.5:10f}]'"
   ]
  },
  {
   "cell_type": "code",
   "execution_count": 11,
   "id": "70be81ab",
   "metadata": {},
   "outputs": [
    {
     "data": {
      "text/plain": [
       "'[hello     ]'"
      ]
     },
     "execution_count": 11,
     "metadata": {},
     "output_type": "execute_result"
    }
   ],
   "source": [
    "f'[{\"hello\":10}]'"
   ]
  },
  {
   "cell_type": "markdown",
   "id": "8aa7ed8a",
   "metadata": {},
   "source": [
    "Explicitly Specifying Left and Right Alignment in a Field"
   ]
  },
  {
   "cell_type": "markdown",
   "id": "40367a99",
   "metadata": {},
   "source": [
    "Recall that you can specify left and right alignment with < and >:"
   ]
  },
  {
   "cell_type": "code",
   "execution_count": 12,
   "id": "64eecf0c",
   "metadata": {},
   "outputs": [
    {
     "data": {
      "text/plain": [
       "'[27             ]'"
      ]
     },
     "execution_count": 12,
     "metadata": {},
     "output_type": "execute_result"
    }
   ],
   "source": [
    "f'[{27:<15d}]'"
   ]
  },
  {
   "cell_type": "code",
   "execution_count": 13,
   "id": "df8ab049",
   "metadata": {},
   "outputs": [
    {
     "data": {
      "text/plain": [
       "'[3.500000       ]'"
      ]
     },
     "execution_count": 13,
     "metadata": {},
     "output_type": "execute_result"
    }
   ],
   "source": [
    "f'[{3.5:<15f}]'"
   ]
  },
  {
   "cell_type": "code",
   "execution_count": 14,
   "id": "05e353d1",
   "metadata": {},
   "outputs": [
    {
     "data": {
      "text/plain": [
       "'[          hello]'"
      ]
     },
     "execution_count": 14,
     "metadata": {},
     "output_type": "execute_result"
    }
   ],
   "source": [
    "f'[{\"hello\":>15}]'"
   ]
  },
  {
   "cell_type": "markdown",
   "id": "31e613fe",
   "metadata": {},
   "source": [
    "Centering a Value in a Field"
   ]
  },
  {
   "cell_type": "code",
   "execution_count": 15,
   "id": "7bc70ccc",
   "metadata": {},
   "outputs": [
    {
     "data": {
      "text/plain": [
       "'[  27   ]'"
      ]
     },
     "execution_count": 15,
     "metadata": {},
     "output_type": "execute_result"
    }
   ],
   "source": [
    "f'[{27:^7d}]'"
   ]
  },
  {
   "cell_type": "code",
   "execution_count": 16,
   "id": "9329ac26",
   "metadata": {},
   "outputs": [
    {
     "data": {
      "text/plain": [
       "'[  3.5  ]'"
      ]
     },
     "execution_count": 16,
     "metadata": {},
     "output_type": "execute_result"
    }
   ],
   "source": [
    "f'[{3.5:^7.1f}]'"
   ]
  },
  {
   "cell_type": "code",
   "execution_count": 17,
   "id": "7606a6db",
   "metadata": {},
   "outputs": [
    {
     "data": {
      "text/plain": [
       "'[ hello ]'"
      ]
     },
     "execution_count": 17,
     "metadata": {},
     "output_type": "execute_result"
    }
   ],
   "source": [
    "f'[{\"hello\":^7}]'"
   ]
  },
  {
   "cell_type": "markdown",
   "id": "0fe548ac",
   "metadata": {},
   "source": [
    "Self Check: Display on separate lines the name 'Amanda' right-, center- and left-aligned in a field of 10 characters. Enclose each result in brackets so you can see the alignment results more clearly."
   ]
  },
  {
   "cell_type": "code",
   "execution_count": 18,
   "id": "6e8b560c",
   "metadata": {},
   "outputs": [
    {
     "name": "stdout",
     "output_type": "stream",
     "text": [
      "[    Amanda]\n",
      "[  Amanda  ]\n",
      "[Amanda    ]\n"
     ]
    }
   ],
   "source": [
    "print(f'[{\"Amanda\":>10}]\\n[{\"Amanda\":^10}]\\n[{\"Amanda\":<10}]')"
   ]
  },
  {
   "cell_type": "markdown",
   "id": "fe254200",
   "metadata": {},
   "source": [
    "8.2.3 Numeric Formatting"
   ]
  },
  {
   "cell_type": "markdown",
   "id": "68c4584a",
   "metadata": {},
   "source": [
    "Formatting Positive Numbers with Signs"
   ]
  },
  {
   "cell_type": "markdown",
   "id": "05ebf99c",
   "metadata": {},
   "source": [
    "Sometimes it’s desirable to force the sign on a positive number:"
   ]
  },
  {
   "cell_type": "code",
   "execution_count": 19,
   "id": "ea992e05",
   "metadata": {},
   "outputs": [
    {
     "data": {
      "text/plain": [
       "'[       +27]'"
      ]
     },
     "execution_count": 19,
     "metadata": {},
     "output_type": "execute_result"
    }
   ],
   "source": [
    "f'[{27:+10d}]'"
   ]
  },
  {
   "cell_type": "markdown",
   "id": "66861668",
   "metadata": {},
   "source": [
    "The + before the field width specifies that a positive number should be preceded by a +. A negative number always starts with a -. To fill the remaining characters of the field with 0s rather than spaces, place a 0 before the field width (and after the + if there is one):"
   ]
  },
  {
   "cell_type": "code",
   "execution_count": 20,
   "id": "9ee1debe",
   "metadata": {},
   "outputs": [
    {
     "data": {
      "text/plain": [
       "'[+000000027]'"
      ]
     },
     "execution_count": 20,
     "metadata": {},
     "output_type": "execute_result"
    }
   ],
   "source": [
    "f'[{27:+010d}]'"
   ]
  },
  {
   "cell_type": "markdown",
   "id": "82560d2d",
   "metadata": {},
   "source": [
    "Using a Space Where a + Sign Would Appear in a Positive Value"
   ]
  },
  {
   "cell_type": "markdown",
   "id": "92cf32b8",
   "metadata": {},
   "source": [
    "A space indicates that positive numbers should show a space character in the sign position. This is useful for aligning positive and negative values for display purposes:"
   ]
  },
  {
   "cell_type": "code",
   "execution_count": 22,
   "id": "87984592",
   "metadata": {},
   "outputs": [
    {
     "name": "stdout",
     "output_type": "stream",
     "text": [
      "27\n",
      " 27\n",
      "-27\n"
     ]
    }
   ],
   "source": [
    "print(f'{27:d}\\n{27: d}\\n{-27: d}')"
   ]
  },
  {
   "cell_type": "markdown",
   "id": "0bd3eb5e",
   "metadata": {},
   "source": [
    "Grouping Digits"
   ]
  },
  {
   "cell_type": "markdown",
   "id": "05c1994a",
   "metadata": {},
   "source": [
    "You can format numbers with thousands separators by using a comma (,), as follows:"
   ]
  },
  {
   "cell_type": "code",
   "execution_count": 23,
   "id": "7815f60e",
   "metadata": {},
   "outputs": [
    {
     "data": {
      "text/plain": [
       "'12,345,678'"
      ]
     },
     "execution_count": 23,
     "metadata": {},
     "output_type": "execute_result"
    }
   ],
   "source": [
    "f'{12345678:,d}'"
   ]
  },
  {
   "cell_type": "code",
   "execution_count": 24,
   "id": "6f32e45f",
   "metadata": {},
   "outputs": [
    {
     "data": {
      "text/plain": [
       "'123,456.78'"
      ]
     },
     "execution_count": 24,
     "metadata": {},
     "output_type": "execute_result"
    }
   ],
   "source": [
    "f'{123456.78:,.2f}'"
   ]
  },
  {
   "cell_type": "markdown",
   "id": "e4777549",
   "metadata": {},
   "source": [
    "Self Check: Print the values 10240.473 and -3210.9521, each preceded by its sign, in 10-character fields with thousands separators, their decimal points aligned vertically and two digits of precision."
   ]
  },
  {
   "cell_type": "code",
   "execution_count": 25,
   "id": "8cac7a9d",
   "metadata": {},
   "outputs": [
    {
     "name": "stdout",
     "output_type": "stream",
     "text": [
      "+10,240.47\n",
      " -3,210.95\n"
     ]
    }
   ],
   "source": [
    "print(f'{10240.473:+10,.2f}\\n{-3210.9521:+10,.2f}')"
   ]
  },
  {
   "cell_type": "markdown",
   "id": "82d85afe",
   "metadata": {},
   "source": [
    "8.2.4 String’s format Method"
   ]
  },
  {
   "cell_type": "markdown",
   "id": "efd8b1be",
   "metadata": {},
   "source": [
    "Python’s f-strings were added to the language in version 3.6. Before that, formatting was performed with the string method format. In fact, f-string formatting is based on the format method’s capabilities. We show you the format method here because you’ll encounter it in code written prior to Python 3.6."
   ]
  },
  {
   "cell_type": "code",
   "execution_count": 26,
   "id": "f5875219",
   "metadata": {},
   "outputs": [
    {
     "data": {
      "text/plain": [
       "'17.49'"
      ]
     },
     "execution_count": 26,
     "metadata": {},
     "output_type": "execute_result"
    }
   ],
   "source": [
    "'{:.2f}'.format(17.489)"
   ]
  },
  {
   "cell_type": "markdown",
   "id": "75807561",
   "metadata": {},
   "source": [
    "Multiple Placeholders"
   ]
  },
  {
   "cell_type": "code",
   "execution_count": 27,
   "id": "28f8cd73",
   "metadata": {},
   "outputs": [
    {
     "data": {
      "text/plain": [
       "'Amanda Cyan'"
      ]
     },
     "execution_count": 27,
     "metadata": {},
     "output_type": "execute_result"
    }
   ],
   "source": [
    "'{} {}'.format('Amanda',  'Cyan')"
   ]
  },
  {
   "cell_type": "markdown",
   "id": "1f5aadd3",
   "metadata": {},
   "source": [
    "Referencing Arguments By Position Number"
   ]
  },
  {
   "cell_type": "code",
   "execution_count": 28,
   "id": "17b42cf7",
   "metadata": {},
   "outputs": [
    {
     "data": {
      "text/plain": [
       "'Happy Happy Birthday'"
      ]
     },
     "execution_count": 28,
     "metadata": {},
     "output_type": "execute_result"
    }
   ],
   "source": [
    "'{0} {0} {1}'.format('Happy', 'Birthday')"
   ]
  },
  {
   "cell_type": "markdown",
   "id": "58c3fe56",
   "metadata": {},
   "source": [
    "Referencing Keyword Arguments"
   ]
  },
  {
   "cell_type": "code",
   "execution_count": 29,
   "id": "a8bc4511",
   "metadata": {},
   "outputs": [
    {
     "data": {
      "text/plain": [
       "'Amanda Gray'"
      ]
     },
     "execution_count": 29,
     "metadata": {},
     "output_type": "execute_result"
    }
   ],
   "source": [
    "'{first} {last}'.format(first='Amanda', last='Gray')"
   ]
  },
  {
   "cell_type": "code",
   "execution_count": 31,
   "id": "169c55d1",
   "metadata": {},
   "outputs": [
    {
     "data": {
      "text/plain": [
       "'Gray Amanda'"
      ]
     },
     "execution_count": 31,
     "metadata": {},
     "output_type": "execute_result"
    }
   ],
   "source": [
    "'{last} {first}'.format(first='Amanda', last='Gray')"
   ]
  },
  {
   "cell_type": "markdown",
   "id": "8349c923",
   "metadata": {},
   "source": [
    "Self Check"
   ]
  },
  {
   "cell_type": "code",
   "execution_count": 32,
   "id": "253aac8f",
   "metadata": {},
   "outputs": [
    {
     "name": "stdout",
     "output_type": "stream",
     "text": [
      ":-)\n"
     ]
    }
   ],
   "source": [
    "print('{:c}{:c}{:c}'.format(58, 45, 41))"
   ]
  },
  {
   "cell_type": "code",
   "execution_count": 33,
   "id": "6f02ad16",
   "metadata": {},
   "outputs": [
    {
     "name": "stdout",
     "output_type": "stream",
     "text": [
      "[    Amanda]\n",
      "[  Amanda  ]\n",
      "[Amanda    ]\n"
     ]
    }
   ],
   "source": [
    " print('[{0:>10}]\\n[{0:^10}]\\n[{0:<10}]'.format('Amanda'))"
   ]
  },
  {
   "cell_type": "code",
   "execution_count": 34,
   "id": "8a5aca49",
   "metadata": {},
   "outputs": [
    {
     "name": "stdout",
     "output_type": "stream",
     "text": [
      "+10,240.47\n",
      " -3,210.95\n"
     ]
    }
   ],
   "source": [
    "print('{:+10,.2f}\\n{:+10,.2f}'.format(10240.473, -3210.9521))"
   ]
  },
  {
   "cell_type": "markdown",
   "id": "ea0e3d8d",
   "metadata": {},
   "source": [
    "## 8.3 Concatenating and Repeating Strings"
   ]
  },
  {
   "cell_type": "markdown",
   "id": "2cde8623",
   "metadata": {},
   "source": [
    "In earlier chapters, we used the + operator to concatenate strings and the  * operator to repeat strings. You also can perform these operations with augmented assignments. Strings are immutable, so each operation assigns a new string object to the variable:"
   ]
  },
  {
   "cell_type": "code",
   "execution_count": 35,
   "id": "1e3ecf5b",
   "metadata": {},
   "outputs": [],
   "source": [
    "s1 = 'happy'"
   ]
  },
  {
   "cell_type": "code",
   "execution_count": 36,
   "id": "00dd1a5e",
   "metadata": {},
   "outputs": [],
   "source": [
    "s2 = 'birthday'"
   ]
  },
  {
   "cell_type": "code",
   "execution_count": 37,
   "id": "0daba79c",
   "metadata": {},
   "outputs": [],
   "source": [
    "s1 += ' ' + s2"
   ]
  },
  {
   "cell_type": "code",
   "execution_count": 38,
   "id": "2c4c7935",
   "metadata": {},
   "outputs": [
    {
     "data": {
      "text/plain": [
       "'happy birthday'"
      ]
     },
     "execution_count": 38,
     "metadata": {},
     "output_type": "execute_result"
    }
   ],
   "source": [
    "s1"
   ]
  },
  {
   "cell_type": "code",
   "execution_count": 39,
   "id": "04348b29",
   "metadata": {},
   "outputs": [],
   "source": [
    "symbol = '>'"
   ]
  },
  {
   "cell_type": "code",
   "execution_count": 40,
   "id": "9403ef73",
   "metadata": {},
   "outputs": [],
   "source": [
    "symbol *= 5"
   ]
  },
  {
   "cell_type": "code",
   "execution_count": 41,
   "id": "48fe2167",
   "metadata": {},
   "outputs": [
    {
     "data": {
      "text/plain": [
       "'>>>>>'"
      ]
     },
     "execution_count": 41,
     "metadata": {},
     "output_type": "execute_result"
    }
   ],
   "source": [
    "symbol"
   ]
  },
  {
   "cell_type": "markdown",
   "id": "a0fce1c9",
   "metadata": {},
   "source": [
    "Self Check:  Use the += operator to concatenate your first and last name. Then use the *= operator to create a bar of asterisks with the same number of characters as your full name and display the bar above and below your name."
   ]
  },
  {
   "cell_type": "code",
   "execution_count": 52,
   "id": "c5a0455f",
   "metadata": {},
   "outputs": [],
   "source": [
    "name = 'Samantha'"
   ]
  },
  {
   "cell_type": "code",
   "execution_count": 53,
   "id": "76c756b6",
   "metadata": {},
   "outputs": [],
   "source": [
    "name += ' Cress'"
   ]
  },
  {
   "cell_type": "code",
   "execution_count": 54,
   "id": "d9d6b28f",
   "metadata": {},
   "outputs": [],
   "source": [
    "bar = '*'"
   ]
  },
  {
   "cell_type": "code",
   "execution_count": 55,
   "id": "899aeee9",
   "metadata": {},
   "outputs": [],
   "source": [
    "bar *= len(name)"
   ]
  },
  {
   "cell_type": "code",
   "execution_count": 56,
   "id": "480dcb60",
   "metadata": {},
   "outputs": [
    {
     "name": "stdout",
     "output_type": "stream",
     "text": [
      "**************\n",
      "Samantha Cress\n",
      "**************\n"
     ]
    }
   ],
   "source": [
    "print(f'{bar}\\n{name}\\n{bar}')"
   ]
  },
  {
   "cell_type": "markdown",
   "id": "2bafb91b",
   "metadata": {},
   "source": [
    "## 8.4 Stripping Whitespace from Strings"
   ]
  },
  {
   "cell_type": "markdown",
   "id": "2bbba9f9",
   "metadata": {},
   "source": [
    "There are several string methods for removing whitespace from the ends of a string. Each returns a new string leaving the original unmodified. Strings are immutable, so each method that appears to modify a string returns a new one."
   ]
  },
  {
   "cell_type": "markdown",
   "id": "120d866a",
   "metadata": {},
   "source": [
    "Removing Leading and Trailing Whitespace\n",
    "Let’s use string method strip to remove the leading and trailing whitespace from a string:"
   ]
  },
  {
   "cell_type": "code",
   "execution_count": 57,
   "id": "e3c2c57d",
   "metadata": {},
   "outputs": [],
   "source": [
    "sentence = '\\t \\n This is a test string. \\t\\t \\n'"
   ]
  },
  {
   "cell_type": "code",
   "execution_count": 58,
   "id": "626cd7bf",
   "metadata": {},
   "outputs": [
    {
     "data": {
      "text/plain": [
       "'This is a test string.'"
      ]
     },
     "execution_count": 58,
     "metadata": {},
     "output_type": "execute_result"
    }
   ],
   "source": [
    "sentence.strip()"
   ]
  },
  {
   "cell_type": "markdown",
   "id": "b847e203",
   "metadata": {},
   "source": [
    "Removing Leading Whitespace\n",
    "Method lstrip removes only leading whitespace:"
   ]
  },
  {
   "cell_type": "code",
   "execution_count": 60,
   "id": "e3c52703",
   "metadata": {},
   "outputs": [
    {
     "data": {
      "text/plain": [
       "'This is a test string. \\t\\t \\n'"
      ]
     },
     "execution_count": 60,
     "metadata": {},
     "output_type": "execute_result"
    }
   ],
   "source": [
    "sentence.lstrip()"
   ]
  },
  {
   "cell_type": "markdown",
   "id": "0ded1dc0",
   "metadata": {},
   "source": [
    "Removing Trailing Whitespace\n",
    "Method rstrip removes only trailing whitespace:"
   ]
  },
  {
   "cell_type": "code",
   "execution_count": 61,
   "id": "b3e64879",
   "metadata": {},
   "outputs": [
    {
     "data": {
      "text/plain": [
       "'\\t \\n This is a test string.'"
      ]
     },
     "execution_count": 61,
     "metadata": {},
     "output_type": "execute_result"
    }
   ],
   "source": [
    "sentence.rstrip()"
   ]
  },
  {
   "cell_type": "markdown",
   "id": "3d36d599",
   "metadata": {},
   "source": [
    "As the outputs demonstrate, these methods remove all kinds of whitespace, including spaces, newlines and tabs."
   ]
  },
  {
   "cell_type": "markdown",
   "id": "32ac5d59",
   "metadata": {},
   "source": [
    "Self Check: Use the methods in this section to strip the whitespace from the following string, which has five spaces at the beginning and end of the string:"
   ]
  },
  {
   "cell_type": "code",
   "execution_count": 62,
   "id": "1aedf346",
   "metadata": {},
   "outputs": [],
   "source": [
    "name = '       Margo Magenta     '"
   ]
  },
  {
   "cell_type": "code",
   "execution_count": 63,
   "id": "7ea668d9",
   "metadata": {},
   "outputs": [
    {
     "data": {
      "text/plain": [
       "'Margo Magenta'"
      ]
     },
     "execution_count": 63,
     "metadata": {},
     "output_type": "execute_result"
    }
   ],
   "source": [
    "name.strip()"
   ]
  },
  {
   "cell_type": "code",
   "execution_count": 64,
   "id": "4a45baa4",
   "metadata": {},
   "outputs": [
    {
     "data": {
      "text/plain": [
       "'Margo Magenta     '"
      ]
     },
     "execution_count": 64,
     "metadata": {},
     "output_type": "execute_result"
    }
   ],
   "source": [
    "name.lstrip()"
   ]
  },
  {
   "cell_type": "code",
   "execution_count": 65,
   "id": "9dfebe15",
   "metadata": {},
   "outputs": [
    {
     "data": {
      "text/plain": [
       "'       Margo Magenta'"
      ]
     },
     "execution_count": 65,
     "metadata": {},
     "output_type": "execute_result"
    }
   ],
   "source": [
    "name.rstrip()"
   ]
  },
  {
   "cell_type": "markdown",
   "id": "fc430738",
   "metadata": {},
   "source": [
    "## 8.5 Changing Character Case"
   ]
  },
  {
   "cell_type": "markdown",
   "id": "51e2ccb5",
   "metadata": {},
   "source": [
    "Capitalizing Only a String’s First Character"
   ]
  },
  {
   "cell_type": "markdown",
   "id": "19dbb874",
   "metadata": {},
   "source": [
    "Method capitalize copies the original string and returns a new string with only the first letter capitalized (this is sometimes called sentence capitalization):"
   ]
  },
  {
   "cell_type": "code",
   "execution_count": 66,
   "id": "baa8296e",
   "metadata": {},
   "outputs": [
    {
     "data": {
      "text/plain": [
       "'Happy birthday'"
      ]
     },
     "execution_count": 66,
     "metadata": {},
     "output_type": "execute_result"
    }
   ],
   "source": [
    "'happy birthday'.capitalize()"
   ]
  },
  {
   "cell_type": "markdown",
   "id": "0ff77098",
   "metadata": {},
   "source": [
    "Capitalizing the First Character of Every Word in a String"
   ]
  },
  {
   "cell_type": "markdown",
   "id": "472c1813",
   "metadata": {},
   "source": [
    "Method title copies the original string and returns a new string with only the first character of each word capitalized (this is sometimes called book-title capitalization):"
   ]
  },
  {
   "cell_type": "code",
   "execution_count": 67,
   "id": "e6b9e3b3",
   "metadata": {},
   "outputs": [
    {
     "data": {
      "text/plain": [
       "'Strings: A Deeper Look'"
      ]
     },
     "execution_count": 67,
     "metadata": {},
     "output_type": "execute_result"
    }
   ],
   "source": [
    " 'strings: a deeper look'.title()"
   ]
  },
  {
   "cell_type": "markdown",
   "id": "80885091",
   "metadata": {},
   "source": [
    "Self Check: Demonstrate the results of calling capitalize and title on the string 'happy new year'."
   ]
  },
  {
   "cell_type": "code",
   "execution_count": 68,
   "id": "de4a33cf",
   "metadata": {},
   "outputs": [],
   "source": [
    "test_string = 'happy new year'"
   ]
  },
  {
   "cell_type": "code",
   "execution_count": 69,
   "id": "5b79e381",
   "metadata": {},
   "outputs": [
    {
     "data": {
      "text/plain": [
       "'Happy new year'"
      ]
     },
     "execution_count": 69,
     "metadata": {},
     "output_type": "execute_result"
    }
   ],
   "source": [
    "test_string.capitalize()"
   ]
  },
  {
   "cell_type": "code",
   "execution_count": 70,
   "id": "833dd767",
   "metadata": {},
   "outputs": [
    {
     "data": {
      "text/plain": [
       "'Happy New Year'"
      ]
     },
     "execution_count": 70,
     "metadata": {},
     "output_type": "execute_result"
    }
   ],
   "source": [
    "test_string.title()"
   ]
  },
  {
   "cell_type": "markdown",
   "id": "5c17267b",
   "metadata": {},
   "source": [
    "## 8.6 Comparison Operators for Strings"
   ]
  },
  {
   "cell_type": "markdown",
   "id": "2d6eea49",
   "metadata": {},
   "source": [
    "Strings may be compared with the comparison operators. Recall that strings are compared based on their underlying integer numeric values. So uppercase letters compare as less than lowercase letters because uppercase letters have lower integer values. For example, 'A' is 65 and 'a' is 97. You’ve seen that you can check character codes with ord:"
   ]
  },
  {
   "cell_type": "code",
   "execution_count": 71,
   "id": "4078a53b",
   "metadata": {},
   "outputs": [
    {
     "name": "stdout",
     "output_type": "stream",
     "text": [
      "A: 65; a: 97\n"
     ]
    }
   ],
   "source": [
    "print(f'A: {ord(\"A\")}; a: {ord(\"a\")}')"
   ]
  },
  {
   "cell_type": "markdown",
   "id": "1dd3c68b",
   "metadata": {},
   "source": [
    "Let’s compare the strings 'Orange' and 'orange' using the comparison operators:"
   ]
  },
  {
   "cell_type": "code",
   "execution_count": 72,
   "id": "24639185",
   "metadata": {},
   "outputs": [
    {
     "data": {
      "text/plain": [
       "False"
      ]
     },
     "execution_count": 72,
     "metadata": {},
     "output_type": "execute_result"
    }
   ],
   "source": [
    "'Orange' == 'orange'"
   ]
  },
  {
   "cell_type": "code",
   "execution_count": 73,
   "id": "58edf8ac",
   "metadata": {},
   "outputs": [
    {
     "data": {
      "text/plain": [
       "True"
      ]
     },
     "execution_count": 73,
     "metadata": {},
     "output_type": "execute_result"
    }
   ],
   "source": [
    "'Orange' != 'orange'"
   ]
  },
  {
   "cell_type": "code",
   "execution_count": 74,
   "id": "4b0588e6",
   "metadata": {},
   "outputs": [
    {
     "data": {
      "text/plain": [
       "True"
      ]
     },
     "execution_count": 74,
     "metadata": {},
     "output_type": "execute_result"
    }
   ],
   "source": [
    "'Orange' < 'orange'"
   ]
  },
  {
   "cell_type": "code",
   "execution_count": 75,
   "id": "42d07b34",
   "metadata": {},
   "outputs": [
    {
     "data": {
      "text/plain": [
       "True"
      ]
     },
     "execution_count": 75,
     "metadata": {},
     "output_type": "execute_result"
    }
   ],
   "source": [
    "'Orange' <= 'orange'"
   ]
  },
  {
   "cell_type": "code",
   "execution_count": 76,
   "id": "3ea414c4",
   "metadata": {},
   "outputs": [
    {
     "data": {
      "text/plain": [
       "False"
      ]
     },
     "execution_count": 76,
     "metadata": {},
     "output_type": "execute_result"
    }
   ],
   "source": [
    "'Orange' > 'orange'"
   ]
  },
  {
   "cell_type": "code",
   "execution_count": 77,
   "id": "503b8199",
   "metadata": {},
   "outputs": [
    {
     "data": {
      "text/plain": [
       "False"
      ]
     },
     "execution_count": 77,
     "metadata": {},
     "output_type": "execute_result"
    }
   ],
   "source": [
    "'Orange' >= 'orange'"
   ]
  },
  {
   "cell_type": "markdown",
   "id": "d9dcd75c",
   "metadata": {},
   "source": [
    "## 8.7 Searching for Substrings"
   ]
  },
  {
   "cell_type": "markdown",
   "id": "d197ef2c",
   "metadata": {},
   "source": [
    "Counting Occurrences\n",
    "String method count returns the number of times its argument occurs in the string on which the method is called:"
   ]
  },
  {
   "cell_type": "code",
   "execution_count": 78,
   "id": "8dbbd3af",
   "metadata": {},
   "outputs": [],
   "source": [
    " sentence = 'to be or not to be that is the question'"
   ]
  },
  {
   "cell_type": "code",
   "execution_count": 79,
   "id": "9837de49",
   "metadata": {},
   "outputs": [
    {
     "data": {
      "text/plain": [
       "2"
      ]
     },
     "execution_count": 79,
     "metadata": {},
     "output_type": "execute_result"
    }
   ],
   "source": [
    "sentence.count('to')"
   ]
  },
  {
   "cell_type": "markdown",
   "id": "1047733a",
   "metadata": {},
   "source": [
    "If you specify as the second argument a start_index, count searches only the slice string[start_index:]—that is, from start_index through end of the string:"
   ]
  },
  {
   "cell_type": "code",
   "execution_count": 80,
   "id": "97d2ad30",
   "metadata": {},
   "outputs": [
    {
     "data": {
      "text/plain": [
       "1"
      ]
     },
     "execution_count": 80,
     "metadata": {},
     "output_type": "execute_result"
    }
   ],
   "source": [
    "sentence.count('to', 12)"
   ]
  },
  {
   "cell_type": "markdown",
   "id": "e674b1ce",
   "metadata": {},
   "source": [
    "If you specify as the second and third arguments the start_index and end_index, count searches only the slice string[start_index:end_index]—that is, from start_index up to, but not including, end_index:"
   ]
  },
  {
   "cell_type": "code",
   "execution_count": 81,
   "id": "859c04f4",
   "metadata": {},
   "outputs": [
    {
     "data": {
      "text/plain": [
       "1"
      ]
     },
     "execution_count": 81,
     "metadata": {},
     "output_type": "execute_result"
    }
   ],
   "source": [
    "sentence.count('that', 12, 25)"
   ]
  },
  {
   "cell_type": "markdown",
   "id": "1140c9ab",
   "metadata": {},
   "source": [
    "Like count, each of the other string methods presented in this section has start_index and end_index arguments for searching only a slice of the original string."
   ]
  },
  {
   "cell_type": "markdown",
   "id": "e413b7de",
   "metadata": {},
   "source": [
    "Locating a Substring in a String\n",
    "String method index searches for a substring within a string and returns the first index at which the substring is found; otherwise, a ValueError occurs:"
   ]
  },
  {
   "cell_type": "code",
   "execution_count": 82,
   "id": "f37b3b40",
   "metadata": {},
   "outputs": [
    {
     "data": {
      "text/plain": [
       "3"
      ]
     },
     "execution_count": 82,
     "metadata": {},
     "output_type": "execute_result"
    }
   ],
   "source": [
    "sentence.index('be')"
   ]
  },
  {
   "cell_type": "markdown",
   "id": "e0c44efd",
   "metadata": {},
   "source": [
    "String method rindex performs the same operation as index, but searches from the end of the string and returns the last index at which the substring is found; otherwise, a ValueError occurs:"
   ]
  },
  {
   "cell_type": "code",
   "execution_count": 83,
   "id": "8c4e6717",
   "metadata": {},
   "outputs": [
    {
     "data": {
      "text/plain": [
       "16"
      ]
     },
     "execution_count": 83,
     "metadata": {},
     "output_type": "execute_result"
    }
   ],
   "source": [
    "sentence.rindex('be')"
   ]
  },
  {
   "cell_type": "markdown",
   "id": "25d69ba1",
   "metadata": {},
   "source": [
    "String methods find and rfind perform the same tasks as index and rindex but, if the substring is not found, return -1 rather than causing a ValueError."
   ]
  },
  {
   "cell_type": "markdown",
   "id": "5274ae8c",
   "metadata": {},
   "source": [
    "Determining Whether a String Contains a Substring \n",
    "If you need to know only whether a string contains a substring, use operator in or not in:"
   ]
  },
  {
   "cell_type": "code",
   "execution_count": 84,
   "id": "75752244",
   "metadata": {},
   "outputs": [
    {
     "data": {
      "text/plain": [
       "True"
      ]
     },
     "execution_count": 84,
     "metadata": {},
     "output_type": "execute_result"
    }
   ],
   "source": [
    "'that' in sentence"
   ]
  },
  {
   "cell_type": "code",
   "execution_count": 85,
   "id": "b12dea39",
   "metadata": {},
   "outputs": [
    {
     "data": {
      "text/plain": [
       "False"
      ]
     },
     "execution_count": 85,
     "metadata": {},
     "output_type": "execute_result"
    }
   ],
   "source": [
    "'THAT' in sentence"
   ]
  },
  {
   "cell_type": "code",
   "execution_count": 86,
   "id": "ead51997",
   "metadata": {},
   "outputs": [
    {
     "data": {
      "text/plain": [
       "True"
      ]
     },
     "execution_count": 86,
     "metadata": {},
     "output_type": "execute_result"
    }
   ],
   "source": [
    " 'THAT' not in sentence"
   ]
  },
  {
   "cell_type": "markdown",
   "id": "b188d24e",
   "metadata": {},
   "source": [
    "Locating a Substring at the Beginning or End of a String\n",
    "String methods startswith and endswith return True if the string starts with or ends with a specified substring:"
   ]
  },
  {
   "cell_type": "code",
   "execution_count": 87,
   "id": "c09cb92d",
   "metadata": {},
   "outputs": [
    {
     "data": {
      "text/plain": [
       "True"
      ]
     },
     "execution_count": 87,
     "metadata": {},
     "output_type": "execute_result"
    }
   ],
   "source": [
    " sentence.startswith('to')"
   ]
  },
  {
   "cell_type": "code",
   "execution_count": 88,
   "id": "ec64b63c",
   "metadata": {},
   "outputs": [
    {
     "data": {
      "text/plain": [
       "False"
      ]
     },
     "execution_count": 88,
     "metadata": {},
     "output_type": "execute_result"
    }
   ],
   "source": [
    "sentence.startswith('be')"
   ]
  },
  {
   "cell_type": "code",
   "execution_count": 89,
   "id": "a3369b70",
   "metadata": {},
   "outputs": [
    {
     "data": {
      "text/plain": [
       "True"
      ]
     },
     "execution_count": 89,
     "metadata": {},
     "output_type": "execute_result"
    }
   ],
   "source": [
    " sentence.endswith('question')"
   ]
  },
  {
   "cell_type": "code",
   "execution_count": 90,
   "id": "3bfaf151",
   "metadata": {},
   "outputs": [
    {
     "data": {
      "text/plain": [
       "False"
      ]
     },
     "execution_count": 90,
     "metadata": {},
     "output_type": "execute_result"
    }
   ],
   "source": [
    "sentence.endswith('quest')"
   ]
  },
  {
   "cell_type": "markdown",
   "id": "43a0ac9d",
   "metadata": {},
   "source": [
    "Self Check: Create a loop that locates and displays every word that starts with 't' in the string 'to be or not to be that is the question'."
   ]
  },
  {
   "cell_type": "code",
   "execution_count": 91,
   "id": "85c46aa1",
   "metadata": {},
   "outputs": [
    {
     "name": "stdout",
     "output_type": "stream",
     "text": [
      "to to that the "
     ]
    }
   ],
   "source": [
    "for word in 'to be or not to be that is the question'.split():\n",
    "    if word.startswith('t'):\n",
    "        print(word, end=' ')"
   ]
  },
  {
   "cell_type": "markdown",
   "id": "6f860ad5",
   "metadata": {},
   "source": [
    "## 8.8 Replacing Substrings"
   ]
  },
  {
   "cell_type": "markdown",
   "id": "acd5837e",
   "metadata": {},
   "source": [
    "Method replace takes two substrings. It searches a string for the substring in its first argument and replaces each occurrence with the substring in its second argument. The method returns a new string containing the results. Let’s replace tab characters with commas:"
   ]
  },
  {
   "cell_type": "code",
   "execution_count": 92,
   "id": "98e62d2d",
   "metadata": {},
   "outputs": [],
   "source": [
    "values = '1\\t2\\t3\\t4\\t5'"
   ]
  },
  {
   "cell_type": "code",
   "execution_count": 93,
   "id": "3be37264",
   "metadata": {},
   "outputs": [
    {
     "data": {
      "text/plain": [
       "'1,2,3,4,5'"
      ]
     },
     "execution_count": 93,
     "metadata": {},
     "output_type": "execute_result"
    }
   ],
   "source": [
    "values.replace('\\t', ',')"
   ]
  },
  {
   "cell_type": "markdown",
   "id": "72b61619",
   "metadata": {},
   "source": [
    "Self Check: Replace the spaces in the string '1 2 3 4 5' with ' --"
   ]
  },
  {
   "cell_type": "code",
   "execution_count": 94,
   "id": "905a24b2",
   "metadata": {},
   "outputs": [
    {
     "data": {
      "text/plain": [
       "'1 --> 2 --> 3 --> 4 --> 5'"
      ]
     },
     "execution_count": 94,
     "metadata": {},
     "output_type": "execute_result"
    }
   ],
   "source": [
    "'1 2 3 4 5'.replace(' ', ' --> ')"
   ]
  },
  {
   "cell_type": "markdown",
   "id": "d21b97ed",
   "metadata": {},
   "source": [
    "## 8.9 Splitting and Joining Strings"
   ]
  },
  {
   "cell_type": "markdown",
   "id": "fc092ed4",
   "metadata": {},
   "source": [
    "Splitting Strings"
   ]
  },
  {
   "cell_type": "markdown",
   "id": "b74aa712",
   "metadata": {},
   "source": [
    "To tokenize a string at a custom delimiter (such as each comma-and-space pair), specify the delimiter string (such as, ', ') that split uses to tokenize the string:"
   ]
  },
  {
   "cell_type": "code",
   "execution_count": 95,
   "id": "6547de0f",
   "metadata": {},
   "outputs": [],
   "source": [
    "letters = 'A, B, C, D'"
   ]
  },
  {
   "cell_type": "code",
   "execution_count": 96,
   "id": "9321cec5",
   "metadata": {},
   "outputs": [
    {
     "data": {
      "text/plain": [
       "['A', 'B', 'C', 'D']"
      ]
     },
     "execution_count": 96,
     "metadata": {},
     "output_type": "execute_result"
    }
   ],
   "source": [
    "letters.split(', ')"
   ]
  },
  {
   "cell_type": "markdown",
   "id": "444675ac",
   "metadata": {},
   "source": [
    "If you provide an integer as the second argument, it specifies the maximum number of splits. The last token is the remainder of the string after the maximum number of splits:  "
   ]
  },
  {
   "cell_type": "code",
   "execution_count": 97,
   "id": "e4adf097",
   "metadata": {},
   "outputs": [
    {
     "data": {
      "text/plain": [
       "['A', 'B', 'C, D']"
      ]
     },
     "execution_count": 97,
     "metadata": {},
     "output_type": "execute_result"
    }
   ],
   "source": [
    "letters.split(', ', 2)"
   ]
  },
  {
   "cell_type": "markdown",
   "id": "782d3cf0",
   "metadata": {},
   "source": [
    "There is also an rsplit method that performs the same task as split but processes the maximum number of splits from the end of the string toward the beginning."
   ]
  },
  {
   "cell_type": "markdown",
   "id": "5f918b4f",
   "metadata": {},
   "source": [
    "Joining Strings\n",
    "String method join concatenates the strings in its argument, which must be an iterable containing only string values; otherwise, a TypeError occurs. The separator between the concatenated items is the string on which you call join. The following code creates strings containing comma-separated lists of values:"
   ]
  },
  {
   "cell_type": "code",
   "execution_count": 98,
   "id": "ed3c8c75",
   "metadata": {},
   "outputs": [],
   "source": [
    "letters_list = ['A', 'B', 'C', 'D']"
   ]
  },
  {
   "cell_type": "code",
   "execution_count": 99,
   "id": "1a1bc26e",
   "metadata": {},
   "outputs": [
    {
     "data": {
      "text/plain": [
       "'A,B,C,D'"
      ]
     },
     "execution_count": 99,
     "metadata": {},
     "output_type": "execute_result"
    }
   ],
   "source": [
    "','.join(letters_list)"
   ]
  },
  {
   "cell_type": "markdown",
   "id": "bbb8c8f4",
   "metadata": {},
   "source": [
    "The next snippet joins the results of a list comprehension that creates a list of strings:"
   ]
  },
  {
   "cell_type": "code",
   "execution_count": 100,
   "id": "48e3e979",
   "metadata": {},
   "outputs": [
    {
     "data": {
      "text/plain": [
       "'0,1,2,3,4,5,6,7,8,9'"
      ]
     },
     "execution_count": 100,
     "metadata": {},
     "output_type": "execute_result"
    }
   ],
   "source": [
    "','.join([str(i) for i in range(10)])"
   ]
  },
  {
   "cell_type": "markdown",
   "id": "cbb5e517",
   "metadata": {},
   "source": [
    "String Methods partition and rpartition \n",
    "String method partition splits a string into a tuple of three strings based on the method’s separator argument. The three strings are\n",
    "\n",
    "the part of the original string before the separator,\n",
    "the separator itself, and\n",
    "the part of the string after the separator.\n",
    "\n",
    "This might be useful for splitting more complex strings. Consider a string representing a student’s name and grades:"
   ]
  },
  {
   "cell_type": "code",
   "execution_count": 101,
   "id": "81ac00b9",
   "metadata": {},
   "outputs": [
    {
     "data": {
      "text/plain": [
       "'Amanda: 89, 97, 92'"
      ]
     },
     "execution_count": 101,
     "metadata": {},
     "output_type": "execute_result"
    }
   ],
   "source": [
    "'Amanda: 89, 97, 92'"
   ]
  },
  {
   "cell_type": "markdown",
   "id": "1f46894a",
   "metadata": {},
   "source": [
    "Let’s split the original string into the student’s name, the separator ': ' and a string representing the list of grades:"
   ]
  },
  {
   "cell_type": "code",
   "execution_count": 102,
   "id": "bc5e23a5",
   "metadata": {},
   "outputs": [
    {
     "data": {
      "text/plain": [
       "('Amanda', ': ', '89, 97, 92')"
      ]
     },
     "execution_count": 102,
     "metadata": {},
     "output_type": "execute_result"
    }
   ],
   "source": [
    "'Amanda: 89, 97, 92'.partition(': ')"
   ]
  },
  {
   "cell_type": "markdown",
   "id": "098ba8d8",
   "metadata": {},
   "source": [
    "String Method splitlines"
   ]
  },
  {
   "cell_type": "markdown",
   "id": "70e06d1f",
   "metadata": {},
   "source": [
    "Method splitlines returns a list of new strings representing the lines of text split at each newline character in the original string. Recall that Python stores multiline strings with embedded \\n characters to represent the line breaks, as shown in snippet:"
   ]
  },
  {
   "cell_type": "code",
   "execution_count": 105,
   "id": "6f1c1d49",
   "metadata": {},
   "outputs": [],
   "source": [
    "lines = \"\"\"This is line This is line2 This is line3\"\"\""
   ]
  },
  {
   "cell_type": "code",
   "execution_count": 106,
   "id": "6a9db2e2",
   "metadata": {},
   "outputs": [
    {
     "data": {
      "text/plain": [
       "'This is line This is line2 This is line3'"
      ]
     },
     "execution_count": 106,
     "metadata": {},
     "output_type": "execute_result"
    }
   ],
   "source": [
    "lines"
   ]
  },
  {
   "cell_type": "code",
   "execution_count": 107,
   "id": "9175da9a",
   "metadata": {},
   "outputs": [
    {
     "data": {
      "text/plain": [
       "['This is line This is line2 This is line3']"
      ]
     },
     "execution_count": 107,
     "metadata": {},
     "output_type": "execute_result"
    }
   ],
   "source": [
    "lines.splitlines()"
   ]
  },
  {
   "cell_type": "markdown",
   "id": "986ff366",
   "metadata": {},
   "source": [
    "Passing True to splitlines keeps the newlines at the end of each string:"
   ]
  },
  {
   "cell_type": "code",
   "execution_count": 108,
   "id": "6fbdf1b2",
   "metadata": {},
   "outputs": [
    {
     "data": {
      "text/plain": [
       "['This is line This is line2 This is line3']"
      ]
     },
     "execution_count": 108,
     "metadata": {},
     "output_type": "execute_result"
    }
   ],
   "source": [
    "lines.splitlines(True)"
   ]
  },
  {
   "cell_type": "markdown",
   "id": "5205a6fe",
   "metadata": {},
   "source": [
    "Self Check: Use split and join in one statement to reformat the string"
   ]
  },
  {
   "cell_type": "code",
   "execution_count": 109,
   "id": "2218e0c0",
   "metadata": {},
   "outputs": [
    {
     "data": {
      "text/plain": [
       "'White, Pamela'"
      ]
     },
     "execution_count": 109,
     "metadata": {},
     "output_type": "execute_result"
    }
   ],
   "source": [
    "', '.join(reversed('Pamela White'.split()))"
   ]
  },
  {
   "cell_type": "markdown",
   "id": "9dc9da45",
   "metadata": {},
   "source": [
    "## 8.10 Characters and Character-Testing Methods"
   ]
  },
  {
   "cell_type": "markdown",
   "id": "827885c5",
   "metadata": {},
   "source": [
    "Characters (digits, letters and symbols such as $, @, % and *) are the fundamental building blocks of programs. Every program is composed of characters that, when grouped meaningfully, represent instructions and data that the interpreter uses to perform tasks. Many programming languages have separate string and character types. In Python, a character is simply a one-character string."
   ]
  },
  {
   "cell_type": "markdown",
   "id": "2e601434",
   "metadata": {},
   "source": [
    "Python provides string methods for testing whether a string matches certain characteristics. For example, string method isdigit returns True if the string on which you call the method contains only the digit characters (0–9). You might use this when validating user input that must contain only digits:"
   ]
  },
  {
   "cell_type": "code",
   "execution_count": 110,
   "id": "e8efbe55",
   "metadata": {},
   "outputs": [
    {
     "data": {
      "text/plain": [
       "False"
      ]
     },
     "execution_count": 110,
     "metadata": {},
     "output_type": "execute_result"
    }
   ],
   "source": [
    "'-27'.isdigit()"
   ]
  },
  {
   "cell_type": "code",
   "execution_count": 111,
   "id": "d975170d",
   "metadata": {},
   "outputs": [
    {
     "data": {
      "text/plain": [
       "True"
      ]
     },
     "execution_count": 111,
     "metadata": {},
     "output_type": "execute_result"
    }
   ],
   "source": [
    "'27'.isdigit()"
   ]
  },
  {
   "cell_type": "markdown",
   "id": "b3c2118a",
   "metadata": {},
   "source": [
    "## 8.11 Raw Strings"
   ]
  },
  {
   "cell_type": "code",
   "execution_count": 1,
   "id": "ae821ab4",
   "metadata": {},
   "outputs": [],
   "source": [
    "file_path = r'C:\\MyFolder\\MySubFolder\\MyFile.txt'"
   ]
  },
  {
   "cell_type": "code",
   "execution_count": 2,
   "id": "8e2d2231",
   "metadata": {},
   "outputs": [
    {
     "data": {
      "text/plain": [
       "'C:\\\\MyFolder\\\\MySubFolder\\\\MyFile.txt'"
      ]
     },
     "execution_count": 2,
     "metadata": {},
     "output_type": "execute_result"
    }
   ],
   "source": [
    "file_path"
   ]
  },
  {
   "cell_type": "markdown",
   "id": "dc6b4b73",
   "metadata": {},
   "source": [
    "For such cases, raw strings—preceded by the character r—are more convenient. They treat each backslash as a regular character, rather than the beginning of an escape sequence:"
   ]
  },
  {
   "cell_type": "markdown",
   "id": "fc255cc7",
   "metadata": {},
   "source": [
    "Python converts the raw string to a regular string that still uses the two backslash characters in its internal representation, as shown in the last snippet. Raw strings can make your code more readable, particularly when using the regular expressions that we discuss in the next section. Regular expressions often contain many backslash characters."
   ]
  },
  {
   "cell_type": "markdown",
   "id": "4f5e40ec",
   "metadata": {},
   "source": [
    "## 8.12 Introduction to Regular Expressions"
   ]
  },
  {
   "cell_type": "markdown",
   "id": "f89e2a99",
   "metadata": {},
   "source": [
    "A regular expression string describes a search pattern for matching characters in other strings.\n",
    "Regular expressions can help you extract data from unstructured text, such as social media posts. They’re also important for ensuring that data is in the correct format before you attempt to process it.3"
   ]
  },
  {
   "cell_type": "markdown",
   "id": "a89f7c1f",
   "metadata": {},
   "source": [
    "Validating Data\n",
    "Before working with text data, you’ll often use regular expressions to validate the data. For example, you can check that:\n",
    "\n",
    "A U.S. ZIP Code consists of five digits (such as 02215) or five digits followed by a hyphen and four more digits (such as 02215-4775).\n",
    "A string last name contains only letters, spaces, apostrophes and hyphens.\n",
    "An e-mail address contains only the allowed characters in the allowed order.\n",
    "A U.S. Social Security number contains three digits, a hyphen, two digits, a hyphen and four digits, and adheres to other rules about the specific numbers that can be used in each group of digits."
   ]
  },
  {
   "cell_type": "markdown",
   "id": "4f265b52",
   "metadata": {},
   "source": [
    "Other Uses of Regular Expressions\n",
    "In addition to validating data, regular expressions often are used to:\n",
    "\n",
    "Extract data from text (sometimes known as scraping)—For example, locating all URLs in a web page. [You might prefer tools like BeautifulSoup, XPath and lxml.]\n",
    "Clean data—For example, removing data that’s not required, removing duplicate data, handling incomplete data, fixing typos, ensuring consistent data formats, dealing with outliers and more.\n",
    "Transform data into other formats—For example, reformatting data that was collected as tab-separated or space-separated values into comma-separated values (CSV) for an application that requires data to be in CSV format."
   ]
  },
  {
   "cell_type": "markdown",
   "id": "7024e11c",
   "metadata": {},
   "source": [
    "8.12.1 re Module and Function fullmatch"
   ]
  },
  {
   "cell_type": "code",
   "execution_count": 3,
   "id": "7216c83d",
   "metadata": {},
   "outputs": [],
   "source": [
    "import re"
   ]
  },
  {
   "cell_type": "markdown",
   "id": "f82a9291",
   "metadata": {},
   "source": [
    "One of the simplest regular expression functions is fullmatch, which checks whether the entire string in its second argument matches the pattern in its first argument."
   ]
  },
  {
   "cell_type": "markdown",
   "id": "cd2718ab",
   "metadata": {},
   "source": [
    "Matching Literal Characters\n",
    "Let’s begin by matching literal characters—that is, characters that match themselves:"
   ]
  },
  {
   "cell_type": "code",
   "execution_count": 4,
   "id": "613a05e3",
   "metadata": {},
   "outputs": [],
   "source": [
    "pattern = '02215'"
   ]
  },
  {
   "cell_type": "code",
   "execution_count": 5,
   "id": "7a0af62e",
   "metadata": {},
   "outputs": [
    {
     "data": {
      "text/plain": [
       "'Match'"
      ]
     },
     "execution_count": 5,
     "metadata": {},
     "output_type": "execute_result"
    }
   ],
   "source": [
    "'Match' if re.fullmatch(pattern, '02215') else 'No match'"
   ]
  },
  {
   "cell_type": "code",
   "execution_count": 9,
   "id": "40272593",
   "metadata": {},
   "outputs": [
    {
     "data": {
      "text/plain": [
       "'No match'"
      ]
     },
     "execution_count": 9,
     "metadata": {},
     "output_type": "execute_result"
    }
   ],
   "source": [
    "'Match' if re.fullmatch(pattern, '51220') else 'No match'"
   ]
  },
  {
   "cell_type": "markdown",
   "id": "832c69d2",
   "metadata": {},
   "source": [
    "Metacharacters, Character Classes and Quantifiers"
   ]
  },
  {
   "cell_type": "markdown",
   "id": "3943efda",
   "metadata": {},
   "source": [
    "The \\ metacharacter begins each of the predefined character classes, each matching a specific set of characters. Let’s validate a five-digit ZIP Code:"
   ]
  },
  {
   "cell_type": "code",
   "execution_count": 10,
   "id": "c4d98621",
   "metadata": {},
   "outputs": [
    {
     "data": {
      "text/plain": [
       "'Valid'"
      ]
     },
     "execution_count": 10,
     "metadata": {},
     "output_type": "execute_result"
    }
   ],
   "source": [
    "'Valid' if re.fullmatch(r'\\d{5}', '02215') else 'Invalid'"
   ]
  },
  {
   "cell_type": "code",
   "execution_count": 11,
   "id": "cc059b17",
   "metadata": {},
   "outputs": [
    {
     "data": {
      "text/plain": [
       "'Invalid'"
      ]
     },
     "execution_count": 11,
     "metadata": {},
     "output_type": "execute_result"
    }
   ],
   "source": [
    "'Valid' if re.fullmatch(r'\\d{5}', '9876') else 'Invalid'"
   ]
  },
  {
   "cell_type": "markdown",
   "id": "616b7b46",
   "metadata": {},
   "source": [
    "Custom Character Classes\n",
    "Square brackets, [], define a custom character class that matches a single character. For example, [aeiou] matches a lowercase vowel, [A-Z] matches an uppercase letter, [a-z] matches a lowercase letter and [a-zA-Z] matches any lowercase or uppercase letter."
   ]
  },
  {
   "cell_type": "markdown",
   "id": "52b28b44",
   "metadata": {},
   "source": [
    "Let’s validate a simple first name with no spaces or punctuation. We’ll ensure that it begins with an uppercase letter (A–Z) followed by any number of lowercase letters (a–z):"
   ]
  },
  {
   "cell_type": "code",
   "execution_count": 12,
   "id": "b805ef20",
   "metadata": {},
   "outputs": [
    {
     "data": {
      "text/plain": [
       "'Valid'"
      ]
     },
     "execution_count": 12,
     "metadata": {},
     "output_type": "execute_result"
    }
   ],
   "source": [
    "'Valid' if re.fullmatch('[A-Z][a-z]*', 'Wally') else 'Invalid'"
   ]
  },
  {
   "cell_type": "code",
   "execution_count": 13,
   "id": "db6da108",
   "metadata": {},
   "outputs": [
    {
     "data": {
      "text/plain": [
       "'Invalid'"
      ]
     },
     "execution_count": 13,
     "metadata": {},
     "output_type": "execute_result"
    }
   ],
   "source": [
    "'Valid' if re.fullmatch('[A-Z][a-z]*', 'eva') else 'Invalid'"
   ]
  },
  {
   "cell_type": "markdown",
   "id": "c40d226f",
   "metadata": {},
   "source": [
    "When a custom character class starts with a caret (^), the class matches any character that’s not specified. So [^a-z] matches any character that’s not a lowercase letter:"
   ]
  },
  {
   "cell_type": "code",
   "execution_count": 14,
   "id": "e0eb3b95",
   "metadata": {},
   "outputs": [
    {
     "data": {
      "text/plain": [
       "'Match'"
      ]
     },
     "execution_count": 14,
     "metadata": {},
     "output_type": "execute_result"
    }
   ],
   "source": [
    "'Match' if re.fullmatch('[^a-z]', 'A') else 'No match'"
   ]
  },
  {
   "cell_type": "code",
   "execution_count": 15,
   "id": "15c766e4",
   "metadata": {},
   "outputs": [
    {
     "data": {
      "text/plain": [
       "'No match'"
      ]
     },
     "execution_count": 15,
     "metadata": {},
     "output_type": "execute_result"
    }
   ],
   "source": [
    "'Match' if re.fullmatch('[^a-z]', 'a') else 'No match'"
   ]
  },
  {
   "cell_type": "markdown",
   "id": "cc1f4747",
   "metadata": {},
   "source": [
    "Metacharacters in a custom character class are treated as literal characters—that is, the characters themselves. So [*+$] matches a single *, + or $ character:"
   ]
  },
  {
   "cell_type": "code",
   "execution_count": 16,
   "id": "2e13c14e",
   "metadata": {},
   "outputs": [
    {
     "data": {
      "text/plain": [
       "'Match'"
      ]
     },
     "execution_count": 16,
     "metadata": {},
     "output_type": "execute_result"
    }
   ],
   "source": [
    "'Match' if re.fullmatch('[*+$]', '*') else 'No match'"
   ]
  },
  {
   "cell_type": "code",
   "execution_count": 17,
   "id": "8ff55754",
   "metadata": {},
   "outputs": [
    {
     "data": {
      "text/plain": [
       "'No match'"
      ]
     },
     "execution_count": 17,
     "metadata": {},
     "output_type": "execute_result"
    }
   ],
   "source": [
    "'Match' if re.fullmatch('[*+$]', '!') else 'No match'"
   ]
  },
  {
   "cell_type": "markdown",
   "id": "05c132d8",
   "metadata": {},
   "source": [
    "* vs. + Quantifier\n",
    "If you want to require at least one lowercase letter in a first name, you can replace the * quantifier in snippet [7] with \n",
    "+, which matches at least one occurrence of a subexpression:"
   ]
  },
  {
   "cell_type": "code",
   "execution_count": 18,
   "id": "e8fb9f5f",
   "metadata": {},
   "outputs": [
    {
     "data": {
      "text/plain": [
       "'Valid'"
      ]
     },
     "execution_count": 18,
     "metadata": {},
     "output_type": "execute_result"
    }
   ],
   "source": [
    "'Valid' if re.fullmatch('[A-Z][a-z]+', 'Wally') else 'Invalid'"
   ]
  },
  {
   "cell_type": "code",
   "execution_count": 19,
   "id": "8443a025",
   "metadata": {},
   "outputs": [
    {
     "data": {
      "text/plain": [
       "'Invalid'"
      ]
     },
     "execution_count": 19,
     "metadata": {},
     "output_type": "execute_result"
    }
   ],
   "source": [
    "'Valid' if re.fullmatch('[A-Z][a-z]+', 'E') else 'Invalid'"
   ]
  },
  {
   "cell_type": "markdown",
   "id": "cd7586d6",
   "metadata": {},
   "source": [
    "Note : Both * and + are greedy—they match as many characters as possible. So the regular expression [A-Z][a-z]+ matches 'Al', 'Eva', 'Samantha', 'Benjamin' and any other words that begin with a capital letter followed at least one lowercase letter."
   ]
  },
  {
   "cell_type": "markdown",
   "id": "035a11ae",
   "metadata": {},
   "source": [
    "Other Quantifiers\n",
    "The ? quantifier matches zero or one occurrences of a subexpression:"
   ]
  },
  {
   "cell_type": "code",
   "execution_count": 20,
   "id": "f30ab3df",
   "metadata": {},
   "outputs": [
    {
     "data": {
      "text/plain": [
       "'Match'"
      ]
     },
     "execution_count": 20,
     "metadata": {},
     "output_type": "execute_result"
    }
   ],
   "source": [
    "'Match' if re.fullmatch('labell?ed', 'labelled') else 'No match'"
   ]
  },
  {
   "cell_type": "code",
   "execution_count": 21,
   "id": "5d4dfbdd",
   "metadata": {},
   "outputs": [
    {
     "data": {
      "text/plain": [
       "'Match'"
      ]
     },
     "execution_count": 21,
     "metadata": {},
     "output_type": "execute_result"
    }
   ],
   "source": [
    "'Match' if re.fullmatch('labell?ed', 'labeled') else 'No match'"
   ]
  },
  {
   "cell_type": "code",
   "execution_count": 22,
   "id": "4692d0c0",
   "metadata": {},
   "outputs": [
    {
     "data": {
      "text/plain": [
       "'No match'"
      ]
     },
     "execution_count": 22,
     "metadata": {},
     "output_type": "execute_result"
    }
   ],
   "source": [
    "'Match' if re.fullmatch('labell?ed', 'labellled') else 'No match'"
   ]
  },
  {
   "cell_type": "markdown",
   "id": "86c3e074",
   "metadata": {},
   "source": [
    "You can match at least n occurrences of a subexpression with the {\n",
    "n,} quantifier. The following regular expression matches strings containing at least three digits:"
   ]
  },
  {
   "cell_type": "code",
   "execution_count": 23,
   "id": "8a919072",
   "metadata": {},
   "outputs": [
    {
     "data": {
      "text/plain": [
       "'Match'"
      ]
     },
     "execution_count": 23,
     "metadata": {},
     "output_type": "execute_result"
    }
   ],
   "source": [
    "'Match' if re.fullmatch(r'\\d{3,}', '123') else 'No match'"
   ]
  },
  {
   "cell_type": "code",
   "execution_count": 24,
   "id": "7031886f",
   "metadata": {},
   "outputs": [
    {
     "data": {
      "text/plain": [
       "'Match'"
      ]
     },
     "execution_count": 24,
     "metadata": {},
     "output_type": "execute_result"
    }
   ],
   "source": [
    "'Match' if re.fullmatch(r'\\d{3,}', '1234567890') else 'No match'"
   ]
  },
  {
   "cell_type": "code",
   "execution_count": 25,
   "id": "dec28129",
   "metadata": {},
   "outputs": [
    {
     "data": {
      "text/plain": [
       "'No match'"
      ]
     },
     "execution_count": 25,
     "metadata": {},
     "output_type": "execute_result"
    }
   ],
   "source": [
    "'Match' if re.fullmatch(r'\\d{3,}', '12') else 'No match'"
   ]
  },
  {
   "cell_type": "markdown",
   "id": "e07a13de",
   "metadata": {},
   "source": [
    "You can match between n and m (inclusive) occurrences of a subexpression with the {\n",
    "n,\n",
    "m} quantifier. The following regular expression matches strings containing 3 to 6 digits:"
   ]
  },
  {
   "cell_type": "code",
   "execution_count": 26,
   "id": "423472d4",
   "metadata": {},
   "outputs": [
    {
     "data": {
      "text/plain": [
       "'Match'"
      ]
     },
     "execution_count": 26,
     "metadata": {},
     "output_type": "execute_result"
    }
   ],
   "source": [
    "'Match' if re.fullmatch(r'\\d{3,6}', '123') else 'No match'"
   ]
  },
  {
   "cell_type": "code",
   "execution_count": 27,
   "id": "8de26d58",
   "metadata": {},
   "outputs": [
    {
     "data": {
      "text/plain": [
       "'Match'"
      ]
     },
     "execution_count": 27,
     "metadata": {},
     "output_type": "execute_result"
    }
   ],
   "source": [
    "'Match' if re.fullmatch(r'\\d{3,6}', '123456') else 'No match'"
   ]
  },
  {
   "cell_type": "code",
   "execution_count": 28,
   "id": "1cd6bf10",
   "metadata": {},
   "outputs": [
    {
     "data": {
      "text/plain": [
       "'No match'"
      ]
     },
     "execution_count": 28,
     "metadata": {},
     "output_type": "execute_result"
    }
   ],
   "source": [
    "'Match' if re.fullmatch(r'\\d{3,6}', '1234567') else 'No match'"
   ]
  },
  {
   "cell_type": "code",
   "execution_count": 29,
   "id": "555747db",
   "metadata": {},
   "outputs": [
    {
     "data": {
      "text/plain": [
       "'No match'"
      ]
     },
     "execution_count": 29,
     "metadata": {},
     "output_type": "execute_result"
    }
   ],
   "source": [
    " 'Match' if re.fullmatch(r'\\d{3,6}', '12') else 'No match'"
   ]
  },
  {
   "cell_type": "markdown",
   "id": "fe740197",
   "metadata": {},
   "source": [
    "Self Check: Create and test a regular expression that matches a street address consisting of a number with one or more digits followed by two words of one or more characters each. The tokens should be separated by one space each, as in 123 Main Street."
   ]
  },
  {
   "cell_type": "code",
   "execution_count": 30,
   "id": "ba073ce2",
   "metadata": {},
   "outputs": [],
   "source": [
    "import re"
   ]
  },
  {
   "cell_type": "code",
   "execution_count": 31,
   "id": "26a6d14a",
   "metadata": {},
   "outputs": [],
   "source": [
    "street = r'\\d+ [A-Z][a-z]* [A-Z][a-z]*'"
   ]
  },
  {
   "cell_type": "code",
   "execution_count": 32,
   "id": "f7a9528a",
   "metadata": {},
   "outputs": [
    {
     "data": {
      "text/plain": [
       "'Match'"
      ]
     },
     "execution_count": 32,
     "metadata": {},
     "output_type": "execute_result"
    }
   ],
   "source": [
    "'Match' if re.fullmatch(street, '123 Main Street') else 'No match'"
   ]
  },
  {
   "cell_type": "code",
   "execution_count": 33,
   "id": "e785fcb6",
   "metadata": {},
   "outputs": [
    {
     "data": {
      "text/plain": [
       "'No match'"
      ]
     },
     "execution_count": 33,
     "metadata": {},
     "output_type": "execute_result"
    }
   ],
   "source": [
    "'Match' if re.fullmatch(street, 'Main Street') else 'No match'"
   ]
  },
  {
   "cell_type": "markdown",
   "id": "b9400c75",
   "metadata": {},
   "source": [
    "8.12.2 Replacing Substrings and Splitting Strings: The re module provides function sub for replacing patterns in a string, and function split for breaking a string into pieces, based on patterns."
   ]
  },
  {
   "cell_type": "markdown",
   "id": "7822512b",
   "metadata": {},
   "source": [
    "Function sub—Replacing Patterns \n",
    "By default, the re module’s sub function replaces all occurrences of a pattern with the replacement text you specify. Let’s convert a tab-delimited string to comma-delimited:"
   ]
  },
  {
   "cell_type": "code",
   "execution_count": 34,
   "id": "c2de24d3",
   "metadata": {},
   "outputs": [],
   "source": [
    "import re"
   ]
  },
  {
   "cell_type": "code",
   "execution_count": 35,
   "id": "b0d56b67",
   "metadata": {},
   "outputs": [
    {
     "data": {
      "text/plain": [
       "'1, 2, 3, 4'"
      ]
     },
     "execution_count": 35,
     "metadata": {},
     "output_type": "execute_result"
    }
   ],
   "source": [
    "re.sub(r'\\t', ', ', '1\\t2\\t3\\t4')"
   ]
  },
  {
   "cell_type": "markdown",
   "id": "b043face",
   "metadata": {},
   "source": [
    "The sub function receives three required arguments:\n",
    "\n",
    "the pattern to match (the tab character '\\t')\n",
    "the replacement text (', ') and\n",
    "the string to be searched ('1\\t2\\t3\\t4')\n",
    "\n",
    "and returns a new string. The keyword argument count can be used to specify the maximum number of replacements:"
   ]
  },
  {
   "cell_type": "code",
   "execution_count": 36,
   "id": "c4f22af7",
   "metadata": {},
   "outputs": [
    {
     "data": {
      "text/plain": [
       "'1, 2, 3\\t4'"
      ]
     },
     "execution_count": 36,
     "metadata": {},
     "output_type": "execute_result"
    }
   ],
   "source": [
    "re.sub(r'\\t', ', ', '1\\t2\\t3\\t4', count=2)"
   ]
  },
  {
   "cell_type": "markdown",
   "id": "831e7ef3",
   "metadata": {},
   "source": [
    "Function split \n",
    "The split function tokenizes a string, using a regular expression to specify the delimiter, and returns a list of strings. Let’s tokenize a string by splitting it at any comma that’s followed by 0 or more whitespace characters—\\s is the whitespace character class and * indicates zero or more occurrences of the preceding subexpression:"
   ]
  },
  {
   "cell_type": "code",
   "execution_count": 37,
   "id": "e4fe19ee",
   "metadata": {},
   "outputs": [
    {
     "data": {
      "text/plain": [
       "['1', '2', '3', '4', '5', '6', '7', '8']"
      ]
     },
     "execution_count": 37,
     "metadata": {},
     "output_type": "execute_result"
    }
   ],
   "source": [
    "re.split(r',\\s*', '1, 2, 3,4, 5,6,7,8')"
   ]
  },
  {
   "cell_type": "markdown",
   "id": "24d29e14",
   "metadata": {},
   "source": [
    "Use the keyword argument maxsplit to specify the maximum number of splits:"
   ]
  },
  {
   "cell_type": "code",
   "execution_count": 38,
   "id": "73b9418f",
   "metadata": {},
   "outputs": [
    {
     "data": {
      "text/plain": [
       "['1', '2', '3', '4, 5,6,7,8']"
      ]
     },
     "execution_count": 38,
     "metadata": {},
     "output_type": "execute_result"
    }
   ],
   "source": [
    "re.split(r',\\s*', '1, 2, 3,4, 5,6,7,8', maxsplit=3)"
   ]
  },
  {
   "cell_type": "markdown",
   "id": "b9b46745",
   "metadata": {},
   "source": [
    "Self Check: Replace each occurrence of one or more adjacent tab characters in the following string with a comma and a space:"
   ]
  },
  {
   "cell_type": "code",
   "execution_count": 39,
   "id": "23091904",
   "metadata": {},
   "outputs": [],
   "source": [
    "import re"
   ]
  },
  {
   "cell_type": "code",
   "execution_count": 40,
   "id": "f801f9ec",
   "metadata": {},
   "outputs": [
    {
     "data": {
      "text/plain": [
       "'A, B, C, D'"
      ]
     },
     "execution_count": 40,
     "metadata": {},
     "output_type": "execute_result"
    }
   ],
   "source": [
    " re.sub(r'\\t+', ', ', 'A\\tB\\t\\tC\\t\\t\\tD')"
   ]
  },
  {
   "cell_type": "markdown",
   "id": "ba89e3f0",
   "metadata": {},
   "source": [
    "Self Check: Use a regular expression and the split function to split the following string at one or more adjacent $ characters."
   ]
  },
  {
   "cell_type": "code",
   "execution_count": 41,
   "id": "2fc45f3e",
   "metadata": {},
   "outputs": [
    {
     "data": {
      "text/plain": [
       "['123', 'Main', 'Street']"
      ]
     },
     "execution_count": 41,
     "metadata": {},
     "output_type": "execute_result"
    }
   ],
   "source": [
    "re.split('\\$+', '123$Main$$Street')"
   ]
  },
  {
   "cell_type": "markdown",
   "id": "6a89e370",
   "metadata": {},
   "source": [
    "## 8.12.3 Other Search Functions; Accessing Matches"
   ]
  },
  {
   "cell_type": "markdown",
   "id": "ae461bc8",
   "metadata": {},
   "source": [
    "Function search—Finding the First Match Anywhere in a String\n",
    "Function search looks in a string for the first occurrence of a substring that matches a regular expression and returns a match object (of type SRE_Match) that contains the matching substring. The match object’s group method returns that substring:"
   ]
  },
  {
   "cell_type": "code",
   "execution_count": 42,
   "id": "f4c38197",
   "metadata": {},
   "outputs": [],
   "source": [
    "import re"
   ]
  },
  {
   "cell_type": "code",
   "execution_count": 43,
   "id": "d26694db",
   "metadata": {},
   "outputs": [],
   "source": [
    "result = re.search('Python', 'Python is fun')"
   ]
  },
  {
   "cell_type": "code",
   "execution_count": 44,
   "id": "58792a85",
   "metadata": {},
   "outputs": [
    {
     "data": {
      "text/plain": [
       "'Python'"
      ]
     },
     "execution_count": 44,
     "metadata": {},
     "output_type": "execute_result"
    }
   ],
   "source": [
    "result.group() if result else 'not found'"
   ]
  },
  {
   "cell_type": "markdown",
   "id": "98c22f2f",
   "metadata": {},
   "source": [
    "Function search returns None if the string does not contain the pattern:"
   ]
  },
  {
   "cell_type": "code",
   "execution_count": 45,
   "id": "f6ae526f",
   "metadata": {},
   "outputs": [],
   "source": [
    "result2 = re.search('fun!', 'Python is fun')"
   ]
  },
  {
   "cell_type": "code",
   "execution_count": 46,
   "id": "a717f77c",
   "metadata": {},
   "outputs": [
    {
     "data": {
      "text/plain": [
       "'not found'"
      ]
     },
     "execution_count": 46,
     "metadata": {},
     "output_type": "execute_result"
    }
   ],
   "source": [
    " result2.group() if result2 else 'not found'"
   ]
  },
  {
   "cell_type": "markdown",
   "id": "5d097d77",
   "metadata": {},
   "source": [
    "Ignoring Case with the Optional flags Keyword Argument"
   ]
  },
  {
   "cell_type": "markdown",
   "id": "6c6846de",
   "metadata": {},
   "source": [
    "Many re module functions receive an optional flags keyword argument that changes how regular expressions are matched. For example, matches are case sensitive by default, but by using the re module’s IGNORECASE constant, you can perform a case-insensitive search:"
   ]
  },
  {
   "cell_type": "code",
   "execution_count": 47,
   "id": "69ad0b4b",
   "metadata": {},
   "outputs": [],
   "source": [
    "result3 = re.search('Sam', 'SAM WHITE', flags=re.IGNORECASE)"
   ]
  },
  {
   "cell_type": "code",
   "execution_count": 48,
   "id": "f1028f73",
   "metadata": {},
   "outputs": [
    {
     "data": {
      "text/plain": [
       "'SAM'"
      ]
     },
     "execution_count": 48,
     "metadata": {},
     "output_type": "execute_result"
    }
   ],
   "source": [
    "result3.group() if result3 else 'not found'"
   ]
  },
  {
   "cell_type": "markdown",
   "id": "a304cb91",
   "metadata": {},
   "source": [
    "Metacharacters That Restrict Matches to the Beginning or End of a String\n",
    "The \n",
    "^ metacharacter at the beginning of a regular expression (and not inside square brackets) is an anchor indicating that the expression matches only the beginning of a string:"
   ]
  },
  {
   "cell_type": "code",
   "execution_count": 49,
   "id": "1312a1f4",
   "metadata": {},
   "outputs": [],
   "source": [
    "result = re.search('^Python', 'Python is fun')"
   ]
  },
  {
   "cell_type": "code",
   "execution_count": 50,
   "id": "dfac464e",
   "metadata": {},
   "outputs": [
    {
     "data": {
      "text/plain": [
       "'Python'"
      ]
     },
     "execution_count": 50,
     "metadata": {},
     "output_type": "execute_result"
    }
   ],
   "source": [
    "result.group() if result else 'not found'"
   ]
  },
  {
   "cell_type": "code",
   "execution_count": 51,
   "id": "64d750e0",
   "metadata": {},
   "outputs": [],
   "source": [
    "result = re.search('^fun', 'Python is fun')"
   ]
  },
  {
   "cell_type": "code",
   "execution_count": 52,
   "id": "6f844a10",
   "metadata": {},
   "outputs": [
    {
     "data": {
      "text/plain": [
       "'not found'"
      ]
     },
     "execution_count": 52,
     "metadata": {},
     "output_type": "execute_result"
    }
   ],
   "source": [
    "result.group() if result else 'not found'"
   ]
  },
  {
   "cell_type": "markdown",
   "id": "d6bc8f46",
   "metadata": {},
   "source": [
    "Similarly, the $ metacharacter at the end of a regular expression is an anchor indicating that the expression matches only the end of a string:"
   ]
  },
  {
   "cell_type": "code",
   "execution_count": 53,
   "id": "5aa97025",
   "metadata": {},
   "outputs": [],
   "source": [
    "result = re.search('Python$', 'Python is fun')"
   ]
  },
  {
   "cell_type": "code",
   "execution_count": 54,
   "id": "80cab8fd",
   "metadata": {},
   "outputs": [
    {
     "data": {
      "text/plain": [
       "'not found'"
      ]
     },
     "execution_count": 54,
     "metadata": {},
     "output_type": "execute_result"
    }
   ],
   "source": [
    "result.group() if result else 'not found'"
   ]
  },
  {
   "cell_type": "code",
   "execution_count": 55,
   "id": "440a965b",
   "metadata": {},
   "outputs": [],
   "source": [
    "result = re.search('fun$', 'Python is fun')"
   ]
  },
  {
   "cell_type": "code",
   "execution_count": 56,
   "id": "85ce33ad",
   "metadata": {},
   "outputs": [
    {
     "data": {
      "text/plain": [
       "'fun'"
      ]
     },
     "execution_count": 56,
     "metadata": {},
     "output_type": "execute_result"
    }
   ],
   "source": [
    "result.group() if result else 'not found'"
   ]
  },
  {
   "cell_type": "markdown",
   "id": "d528a258",
   "metadata": {},
   "source": [
    "Function findall and finditer—Finding All Matches in a String"
   ]
  },
  {
   "cell_type": "markdown",
   "id": "30af8fea",
   "metadata": {},
   "source": [
    "Function findall finds every matching substring in a string and returns a list of the matching substrings. Let’s extract all the U.S. phone numbers from a string. For simplicity we’ll assume that U.S. phone numbers have the form ###-###-####:"
   ]
  },
  {
   "cell_type": "code",
   "execution_count": 57,
   "id": "f4b18a59",
   "metadata": {},
   "outputs": [],
   "source": [
    "contact = 'Wally White, Home: 555-555-1234, Work: 555-555-4321'"
   ]
  },
  {
   "cell_type": "code",
   "execution_count": 58,
   "id": "5f16381b",
   "metadata": {},
   "outputs": [
    {
     "data": {
      "text/plain": [
       "['555-555-1234', '555-555-4321']"
      ]
     },
     "execution_count": 58,
     "metadata": {},
     "output_type": "execute_result"
    }
   ],
   "source": [
    "re.findall(r'\\d{3}-\\d{3}-\\d{4}', contact)"
   ]
  },
  {
   "cell_type": "markdown",
   "id": "04ba9dca",
   "metadata": {},
   "source": [
    "Function finditer works like findall, but returns a lazy iterable of match objects. For large numbers of matches, using finditer can save memory because it returns one match at a time, whereas findall returns all the matches at once:"
   ]
  },
  {
   "cell_type": "code",
   "execution_count": 59,
   "id": "3086f34b",
   "metadata": {},
   "outputs": [
    {
     "name": "stdout",
     "output_type": "stream",
     "text": [
      "555-555-1234\n",
      "555-555-4321\n"
     ]
    }
   ],
   "source": [
    "for phone in re.finditer(r'\\d{3}-\\d{3}-\\d{4}', contact):\n",
    "    print(phone.group())"
   ]
  },
  {
   "cell_type": "markdown",
   "id": "f5f38146",
   "metadata": {},
   "source": [
    "Capturing Substrings in a Match\n",
    "You can use parentheses metacharacters—( and )—to capture substrings in a match. For example, let’s capture as separate substrings the name and e-mail address in the string text:"
   ]
  },
  {
   "cell_type": "code",
   "execution_count": 60,
   "id": "76f32b47",
   "metadata": {},
   "outputs": [],
   "source": [
    "text = 'Charlie Cyan, e-mail: demo1@deitel.com'"
   ]
  },
  {
   "cell_type": "code",
   "execution_count": 61,
   "id": "3866698b",
   "metadata": {},
   "outputs": [],
   "source": [
    "pattern = r'([A-Z][a-z]+ [A-Z][a-z]+), e-mail: (\\w+@\\w+\\.\\w{3})'"
   ]
  },
  {
   "cell_type": "code",
   "execution_count": 62,
   "id": "b84eb5e7",
   "metadata": {},
   "outputs": [],
   "source": [
    "result = re.search(pattern, text)"
   ]
  },
  {
   "cell_type": "code",
   "execution_count": 63,
   "id": "02d3cb94",
   "metadata": {},
   "outputs": [
    {
     "data": {
      "text/plain": [
       "('Charlie Cyan', 'demo1@deitel.com')"
      ]
     },
     "execution_count": 63,
     "metadata": {},
     "output_type": "execute_result"
    }
   ],
   "source": [
    "result.groups()"
   ]
  },
  {
   "cell_type": "markdown",
   "id": "de3f209d",
   "metadata": {},
   "source": [
    "The match object’s group method returns the entire match as a single string:"
   ]
  },
  {
   "cell_type": "code",
   "execution_count": 64,
   "id": "d5a116f0",
   "metadata": {},
   "outputs": [
    {
     "data": {
      "text/plain": [
       "'Charlie Cyan, e-mail: demo1@deitel.com'"
      ]
     },
     "execution_count": 64,
     "metadata": {},
     "output_type": "execute_result"
    }
   ],
   "source": [
    "result.group()"
   ]
  },
  {
   "cell_type": "markdown",
   "id": "c819242f",
   "metadata": {},
   "source": [
    "You can access each captured substring by passing an integer to the group method. The captured substrings are numbered from 1 (unlike list indices, which start at 0):"
   ]
  },
  {
   "cell_type": "code",
   "execution_count": 65,
   "id": "4f1c7a05",
   "metadata": {},
   "outputs": [
    {
     "data": {
      "text/plain": [
       "'Charlie Cyan'"
      ]
     },
     "execution_count": 65,
     "metadata": {},
     "output_type": "execute_result"
    }
   ],
   "source": [
    " result.group(1)"
   ]
  },
  {
   "cell_type": "code",
   "execution_count": 66,
   "id": "9e710c6d",
   "metadata": {},
   "outputs": [
    {
     "data": {
      "text/plain": [
       "'demo1@deitel.com'"
      ]
     },
     "execution_count": 66,
     "metadata": {},
     "output_type": "execute_result"
    }
   ],
   "source": [
    "result.group(2)"
   ]
  },
  {
   "cell_type": "markdown",
   "id": "72a0163a",
   "metadata": {},
   "source": [
    "Self Check: Assume you have a string representing an addition problem such as\n",
    "'10 + 5'\n",
    "Use a regular expression to break the string into three groups representing the two operands and the operator, then display the groups."
   ]
  },
  {
   "cell_type": "code",
   "execution_count": null,
   "id": "f94f2e70",
   "metadata": {},
   "outputs": [],
   "source": [
    "import re"
   ]
  },
  {
   "cell_type": "code",
   "execution_count": 143,
   "id": "5fbc6b8e",
   "metadata": {},
   "outputs": [],
   "source": [
    "result = re.search(r'(\\d+) ([-+*/]) (\\d+)', '10 + 5')"
   ]
  },
  {
   "cell_type": "code",
   "execution_count": 144,
   "id": "c6a0f46b",
   "metadata": {},
   "outputs": [
    {
     "data": {
      "text/plain": [
       "('10', '+', '5')"
      ]
     },
     "execution_count": 144,
     "metadata": {},
     "output_type": "execute_result"
    }
   ],
   "source": [
    "result.groups()"
   ]
  },
  {
   "cell_type": "code",
   "execution_count": 145,
   "id": "6038c557",
   "metadata": {},
   "outputs": [
    {
     "data": {
      "text/plain": [
       "'10'"
      ]
     },
     "execution_count": 145,
     "metadata": {},
     "output_type": "execute_result"
    }
   ],
   "source": [
    "result.group(1)"
   ]
  },
  {
   "cell_type": "code",
   "execution_count": 146,
   "id": "b47653df",
   "metadata": {},
   "outputs": [
    {
     "data": {
      "text/plain": [
       "'+'"
      ]
     },
     "execution_count": 146,
     "metadata": {},
     "output_type": "execute_result"
    }
   ],
   "source": [
    "result.group(2)"
   ]
  },
  {
   "cell_type": "code",
   "execution_count": 147,
   "id": "a09e58f5",
   "metadata": {},
   "outputs": [
    {
     "data": {
      "text/plain": [
       "'5'"
      ]
     },
     "execution_count": 147,
     "metadata": {},
     "output_type": "execute_result"
    }
   ],
   "source": [
    " result.group(3)"
   ]
  },
  {
   "cell_type": "code",
   "execution_count": null,
   "id": "09184d4f",
   "metadata": {},
   "outputs": [],
   "source": []
  }
 ],
 "metadata": {
  "kernelspec": {
   "display_name": "Python 3 (ipykernel)",
   "language": "python",
   "name": "python3"
  },
  "language_info": {
   "codemirror_mode": {
    "name": "ipython",
    "version": 3
   },
   "file_extension": ".py",
   "mimetype": "text/x-python",
   "name": "python",
   "nbconvert_exporter": "python",
   "pygments_lexer": "ipython3",
   "version": "3.9.12"
  }
 },
 "nbformat": 4,
 "nbformat_minor": 5
}
