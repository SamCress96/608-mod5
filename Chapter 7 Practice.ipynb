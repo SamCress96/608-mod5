{
 "cells": [
  {
   "cell_type": "markdown",
   "id": "1c08c25d",
   "metadata": {},
   "source": [
    "# 7.2 Creating Arrays from Existing Data"
   ]
  },
  {
   "cell_type": "code",
   "execution_count": 1,
   "id": "2ed67b52",
   "metadata": {},
   "outputs": [],
   "source": [
    "import numpy as np"
   ]
  },
  {
   "cell_type": "code",
   "execution_count": 2,
   "id": "5ff99ced",
   "metadata": {},
   "outputs": [],
   "source": [
    "numbers = np.array([2, 3, 5, 7, 11])"
   ]
  },
  {
   "cell_type": "code",
   "execution_count": 3,
   "id": "0b5af738",
   "metadata": {},
   "outputs": [
    {
     "data": {
      "text/plain": [
       "numpy.ndarray"
      ]
     },
     "execution_count": 3,
     "metadata": {},
     "output_type": "execute_result"
    }
   ],
   "source": [
    "type(numbers)"
   ]
  },
  {
   "cell_type": "code",
   "execution_count": 4,
   "id": "62ed1cd4",
   "metadata": {},
   "outputs": [
    {
     "data": {
      "text/plain": [
       "array([ 2,  3,  5,  7, 11])"
      ]
     },
     "execution_count": 4,
     "metadata": {},
     "output_type": "execute_result"
    }
   ],
   "source": [
    "numbers"
   ]
  },
  {
   "cell_type": "markdown",
   "id": "a34ff7d2",
   "metadata": {},
   "source": [
    "Multidimensional Arguments"
   ]
  },
  {
   "cell_type": "markdown",
   "id": "b98427b7",
   "metadata": {},
   "source": [
    "The array function copies its argument’s dimensions. Let’s create an array from a two-row-by-three-column list:"
   ]
  },
  {
   "cell_type": "code",
   "execution_count": 5,
   "id": "e38bbd79",
   "metadata": {},
   "outputs": [
    {
     "data": {
      "text/plain": [
       "array([[1, 2, 3],\n",
       "       [4, 5, 6]])"
      ]
     },
     "execution_count": 5,
     "metadata": {},
     "output_type": "execute_result"
    }
   ],
   "source": [
    "np.array([[1, 2, 3], [4, 5, 6]])"
   ]
  },
  {
   "cell_type": "markdown",
   "id": "7aa27a2d",
   "metadata": {},
   "source": [
    "NumPy auto-formats arrays, based on their number of dimensions, aligning the columns within each row."
   ]
  },
  {
   "cell_type": "markdown",
   "id": "b7d78a1e",
   "metadata": {},
   "source": [
    "Self Check: Create a one-dimensional array from a list comprehension that produces the even integers from 2 through 20P:"
   ]
  },
  {
   "cell_type": "code",
   "execution_count": 9,
   "id": "71799480",
   "metadata": {},
   "outputs": [],
   "source": [
    "import numpy as np"
   ]
  },
  {
   "cell_type": "code",
   "execution_count": 10,
   "id": "6449cbf8",
   "metadata": {},
   "outputs": [],
   "source": [
    "one_dimensional_array = np.array([ 2, 4, 6, 8, 10, 12, 14, 16, 18, 20])"
   ]
  },
  {
   "cell_type": "code",
   "execution_count": 11,
   "id": "c16d9547",
   "metadata": {},
   "outputs": [
    {
     "data": {
      "text/plain": [
       "numpy.ndarray"
      ]
     },
     "execution_count": 11,
     "metadata": {},
     "output_type": "execute_result"
    }
   ],
   "source": [
    "type(one_dimensional_array)"
   ]
  },
  {
   "cell_type": "code",
   "execution_count": 12,
   "id": "a66da91f",
   "metadata": {},
   "outputs": [
    {
     "data": {
      "text/plain": [
       "array([ 2,  4,  6,  8, 10, 12, 14, 16, 18, 20])"
      ]
     },
     "execution_count": 12,
     "metadata": {},
     "output_type": "execute_result"
    }
   ],
   "source": [
    "one_dimensional_array"
   ]
  },
  {
   "cell_type": "markdown",
   "id": "d0c42b67",
   "metadata": {},
   "source": [
    "Self Check answer from book:"
   ]
  },
  {
   "cell_type": "code",
   "execution_count": 13,
   "id": "fdb26284",
   "metadata": {},
   "outputs": [],
   "source": [
    "import numpy as np"
   ]
  },
  {
   "cell_type": "code",
   "execution_count": 14,
   "id": "a42f7aa6",
   "metadata": {},
   "outputs": [
    {
     "data": {
      "text/plain": [
       "array([ 2,  4,  6,  8, 10, 12, 14, 16, 18, 20])"
      ]
     },
     "execution_count": 14,
     "metadata": {},
     "output_type": "execute_result"
    }
   ],
   "source": [
    "np.array([x for x in range(2, 21, 2)])"
   ]
  },
  {
   "cell_type": "markdown",
   "id": "77704c72",
   "metadata": {},
   "source": [
    "Self Check: Create a 2-by-5 array containing the even integers from 2 through 10 in the first row and the odd integers from 1 through 9 in the second row."
   ]
  },
  {
   "cell_type": "code",
   "execution_count": 15,
   "id": "bcd141e5",
   "metadata": {},
   "outputs": [],
   "source": [
    "import numpy as np"
   ]
  },
  {
   "cell_type": "code",
   "execution_count": 18,
   "id": "dd0ca256",
   "metadata": {},
   "outputs": [],
   "source": [
    "Two_by_Five_array = np.array([[2, 4, 6, 8, 10], [1, 3, 5, 7, 9]])"
   ]
  },
  {
   "cell_type": "code",
   "execution_count": 19,
   "id": "73dd72e2",
   "metadata": {},
   "outputs": [
    {
     "data": {
      "text/plain": [
       "numpy.ndarray"
      ]
     },
     "execution_count": 19,
     "metadata": {},
     "output_type": "execute_result"
    }
   ],
   "source": [
    "type(Two_by_Five_array)"
   ]
  },
  {
   "cell_type": "code",
   "execution_count": 20,
   "id": "b399c6fc",
   "metadata": {},
   "outputs": [
    {
     "data": {
      "text/plain": [
       "array([[ 2,  4,  6,  8, 10],\n",
       "       [ 1,  3,  5,  7,  9]])"
      ]
     },
     "execution_count": 20,
     "metadata": {},
     "output_type": "execute_result"
    }
   ],
   "source": [
    "Two_by_Five_array"
   ]
  },
  {
   "cell_type": "markdown",
   "id": "427d5b09",
   "metadata": {},
   "source": [
    "# 7.3 Array Attributes"
   ]
  },
  {
   "cell_type": "markdown",
   "id": "edc9376f",
   "metadata": {},
   "source": [
    "An array object provides attributes that enable you to discover information about its structure and contents."
   ]
  },
  {
   "cell_type": "code",
   "execution_count": 21,
   "id": "a5f7182a",
   "metadata": {},
   "outputs": [],
   "source": [
    "import numpy as np"
   ]
  },
  {
   "cell_type": "code",
   "execution_count": 22,
   "id": "e99f608a",
   "metadata": {},
   "outputs": [],
   "source": [
    "integers = np.array([[1, 2, 3], [4, 5, 6]])"
   ]
  },
  {
   "cell_type": "code",
   "execution_count": 24,
   "id": "262d9c3e",
   "metadata": {},
   "outputs": [
    {
     "data": {
      "text/plain": [
       "array([[1, 2, 3],\n",
       "       [4, 5, 6]])"
      ]
     },
     "execution_count": 24,
     "metadata": {},
     "output_type": "execute_result"
    }
   ],
   "source": [
    "integers"
   ]
  },
  {
   "cell_type": "code",
   "execution_count": 25,
   "id": "d908ed17",
   "metadata": {},
   "outputs": [],
   "source": [
    "floats = np.array([0.0, 0.1, 0.2, 0.3, 0.4])"
   ]
  },
  {
   "cell_type": "code",
   "execution_count": 26,
   "id": "d966b610",
   "metadata": {},
   "outputs": [
    {
     "data": {
      "text/plain": [
       "array([0. , 0.1, 0.2, 0.3, 0.4])"
      ]
     },
     "execution_count": 26,
     "metadata": {},
     "output_type": "execute_result"
    }
   ],
   "source": [
    "floats"
   ]
  },
  {
   "cell_type": "markdown",
   "id": "edfd714d",
   "metadata": {},
   "source": [
    "Note: NumPy does not display trailing 0s to the right of the decimal point in floating-point values."
   ]
  },
  {
   "cell_type": "markdown",
   "id": "0999dc6f",
   "metadata": {},
   "source": [
    "Determining an array’s Element Type: You can check the element type with an array’s dtype attribute:"
   ]
  },
  {
   "cell_type": "code",
   "execution_count": 27,
   "id": "d83bb7d0",
   "metadata": {},
   "outputs": [
    {
     "data": {
      "text/plain": [
       "dtype('int32')"
      ]
     },
     "execution_count": 27,
     "metadata": {},
     "output_type": "execute_result"
    }
   ],
   "source": [
    "integers.dtype  #books displays int64, int32 on some platforms"
   ]
  },
  {
   "cell_type": "code",
   "execution_count": 28,
   "id": "f4f91603",
   "metadata": {},
   "outputs": [
    {
     "data": {
      "text/plain": [
       "dtype('float64')"
      ]
     },
     "execution_count": 28,
     "metadata": {},
     "output_type": "execute_result"
    }
   ],
   "source": [
    "floats.dtype"
   ]
  },
  {
   "cell_type": "markdown",
   "id": "ea6d6e3e",
   "metadata": {},
   "source": [
    "Determining an array’s Dimensions: The attribute ndim contains an array’s number of dimensions and the attribute shape contains a tuple specifying an array’s dimensions:"
   ]
  },
  {
   "cell_type": "code",
   "execution_count": 29,
   "id": "71b14c45",
   "metadata": {},
   "outputs": [
    {
     "data": {
      "text/plain": [
       "2"
      ]
     },
     "execution_count": 29,
     "metadata": {},
     "output_type": "execute_result"
    }
   ],
   "source": [
    "integers.ndim"
   ]
  },
  {
   "cell_type": "code",
   "execution_count": 30,
   "id": "68d41963",
   "metadata": {},
   "outputs": [
    {
     "data": {
      "text/plain": [
       "1"
      ]
     },
     "execution_count": 30,
     "metadata": {},
     "output_type": "execute_result"
    }
   ],
   "source": [
    "floats.ndim"
   ]
  },
  {
   "cell_type": "code",
   "execution_count": 31,
   "id": "ee5203d7",
   "metadata": {},
   "outputs": [
    {
     "data": {
      "text/plain": [
       "(2, 3)"
      ]
     },
     "execution_count": 31,
     "metadata": {},
     "output_type": "execute_result"
    }
   ],
   "source": [
    "integers.shape"
   ]
  },
  {
   "cell_type": "code",
   "execution_count": 32,
   "id": "fb7961bb",
   "metadata": {},
   "outputs": [
    {
     "data": {
      "text/plain": [
       "(5,)"
      ]
     },
     "execution_count": 32,
     "metadata": {},
     "output_type": "execute_result"
    }
   ],
   "source": [
    "floats.shape"
   ]
  },
  {
   "cell_type": "markdown",
   "id": "853da44b",
   "metadata": {},
   "source": [
    "Determining an array’s Number of Elements and Element Size"
   ]
  },
  {
   "cell_type": "code",
   "execution_count": 33,
   "id": "0847d0f9",
   "metadata": {},
   "outputs": [
    {
     "data": {
      "text/plain": [
       "6"
      ]
     },
     "execution_count": 33,
     "metadata": {},
     "output_type": "execute_result"
    }
   ],
   "source": [
    "integers.size"
   ]
  },
  {
   "cell_type": "code",
   "execution_count": 34,
   "id": "6473b79f",
   "metadata": {},
   "outputs": [
    {
     "data": {
      "text/plain": [
       "4"
      ]
     },
     "execution_count": 34,
     "metadata": {},
     "output_type": "execute_result"
    }
   ],
   "source": [
    "integers.itemsize ## 4 if C compiler uses 32-bit, books shows 8"
   ]
  },
  {
   "cell_type": "code",
   "execution_count": 35,
   "id": "2b2bc8a3",
   "metadata": {},
   "outputs": [
    {
     "data": {
      "text/plain": [
       "5"
      ]
     },
     "execution_count": 35,
     "metadata": {},
     "output_type": "execute_result"
    }
   ],
   "source": [
    " floats.size"
   ]
  },
  {
   "cell_type": "code",
   "execution_count": 36,
   "id": "798ee128",
   "metadata": {},
   "outputs": [
    {
     "data": {
      "text/plain": [
       "8"
      ]
     },
     "execution_count": 36,
     "metadata": {},
     "output_type": "execute_result"
    }
   ],
   "source": [
    "floats.itemsize"
   ]
  },
  {
   "cell_type": "markdown",
   "id": "6739e651",
   "metadata": {},
   "source": [
    "Iterating Through a Multidimensional array’s Elements"
   ]
  },
  {
   "cell_type": "code",
   "execution_count": 37,
   "id": "3b16a13f",
   "metadata": {},
   "outputs": [
    {
     "name": "stdout",
     "output_type": "stream",
     "text": [
      "1 \n",
      "2 \n",
      "3 \n",
      "4 \n",
      "5 \n",
      "6 \n"
     ]
    }
   ],
   "source": [
    "for row in integers:\n",
    "    for column in row:\n",
    "        print (column, end=' ')\n",
    "        print ()"
   ]
  },
  {
   "cell_type": "markdown",
   "id": "4e3f11ca",
   "metadata": {},
   "source": [
    "You can iterate through a multidimensional array as if it were one-dimensional by using its flat attribute:"
   ]
  },
  {
   "cell_type": "code",
   "execution_count": 38,
   "id": "968dd3d0",
   "metadata": {},
   "outputs": [
    {
     "name": "stdout",
     "output_type": "stream",
     "text": [
      "1 2 3 4 5 6 "
     ]
    }
   ],
   "source": [
    "for i in integers.flat:\n",
    "    print(i, end=' ')"
   ]
  },
  {
   "cell_type": "markdown",
   "id": "d4fa86ae",
   "metadata": {},
   "source": [
    "Self Check:For the two-dimensional array in the previous section’s Self Check, display the number of dimensions and shape of the array."
   ]
  },
  {
   "cell_type": "code",
   "execution_count": 39,
   "id": "7d71b35c",
   "metadata": {},
   "outputs": [],
   "source": [
    "import numpy as np"
   ]
  },
  {
   "cell_type": "code",
   "execution_count": 40,
   "id": "2bad4cb3",
   "metadata": {},
   "outputs": [],
   "source": [
    "array1 = np.array([[2, 4, 6, 8, 10], [1, 3, 5, 7, 9]])"
   ]
  },
  {
   "cell_type": "code",
   "execution_count": 41,
   "id": "9e4293ee",
   "metadata": {},
   "outputs": [
    {
     "data": {
      "text/plain": [
       "array([[ 2,  4,  6,  8, 10],\n",
       "       [ 1,  3,  5,  7,  9]])"
      ]
     },
     "execution_count": 41,
     "metadata": {},
     "output_type": "execute_result"
    }
   ],
   "source": [
    "array1"
   ]
  },
  {
   "cell_type": "code",
   "execution_count": 42,
   "id": "7c6c410e",
   "metadata": {},
   "outputs": [
    {
     "data": {
      "text/plain": [
       "2"
      ]
     },
     "execution_count": 42,
     "metadata": {},
     "output_type": "execute_result"
    }
   ],
   "source": [
    "array1.ndim"
   ]
  },
  {
   "cell_type": "code",
   "execution_count": 43,
   "id": "c60cceb2",
   "metadata": {},
   "outputs": [
    {
     "data": {
      "text/plain": [
       "(2, 5)"
      ]
     },
     "execution_count": 43,
     "metadata": {},
     "output_type": "execute_result"
    }
   ],
   "source": [
    "array1.shape"
   ]
  },
  {
   "cell_type": "markdown",
   "id": "4bc3166d",
   "metadata": {},
   "source": [
    "# 7.4 Filling arrays with Specific Values"
   ]
  },
  {
   "cell_type": "markdown",
   "id": "f4c7cb0f",
   "metadata": {},
   "source": [
    "NumPy provides functions zeros, ones and full for creating arrays containing  0s, 1s or a specified value, respectively. By default, zeros and ones create arrays containing float64 values. "
   ]
  },
  {
   "cell_type": "code",
   "execution_count": 44,
   "id": "7c19c796",
   "metadata": {},
   "outputs": [],
   "source": [
    "import numpy as np"
   ]
  },
  {
   "cell_type": "code",
   "execution_count": 45,
   "id": "d3f621ca",
   "metadata": {},
   "outputs": [
    {
     "data": {
      "text/plain": [
       "array([0., 0., 0., 0., 0.])"
      ]
     },
     "execution_count": 45,
     "metadata": {},
     "output_type": "execute_result"
    }
   ],
   "source": [
    "np.zeros(5)"
   ]
  },
  {
   "cell_type": "markdown",
   "id": "087dd071",
   "metadata": {},
   "source": [
    "For a tuple of integers, these functions return a multidimensional array with the specified dimensions. You can specify the array’s element type with the zeros and ones function’s dtype keyword argument:"
   ]
  },
  {
   "cell_type": "code",
   "execution_count": 46,
   "id": "36a59c3e",
   "metadata": {},
   "outputs": [
    {
     "data": {
      "text/plain": [
       "array([[1, 1, 1, 1],\n",
       "       [1, 1, 1, 1]])"
      ]
     },
     "execution_count": 46,
     "metadata": {},
     "output_type": "execute_result"
    }
   ],
   "source": [
    "np.ones((2, 4), dtype=int)"
   ]
  },
  {
   "cell_type": "markdown",
   "id": "aa72ec4a",
   "metadata": {},
   "source": [
    "The array returned by full contains elements with the second argument’s value and type:"
   ]
  },
  {
   "cell_type": "code",
   "execution_count": 47,
   "id": "840bba77",
   "metadata": {},
   "outputs": [
    {
     "data": {
      "text/plain": [
       "array([[13, 13, 13, 13, 13],\n",
       "       [13, 13, 13, 13, 13],\n",
       "       [13, 13, 13, 13, 13]])"
      ]
     },
     "execution_count": 47,
     "metadata": {},
     "output_type": "execute_result"
    }
   ],
   "source": [
    "np.full((3, 5), 13)"
   ]
  },
  {
   "cell_type": "markdown",
   "id": "c0fc1acd",
   "metadata": {},
   "source": [
    "# 7.5 Creating arrays from Ranges"
   ]
  },
  {
   "cell_type": "markdown",
   "id": "9d1640f2",
   "metadata": {},
   "source": [
    "Creating Integer Ranges with arange"
   ]
  },
  {
   "cell_type": "markdown",
   "id": "032037fa",
   "metadata": {},
   "source": [
    "NumPy’s arange function to create integer ranges—similar to using built-in function range. In each case, arange first determines the resulting array’s number of elements, allocates the memory, then stores the specified range of values in the array:"
   ]
  },
  {
   "cell_type": "code",
   "execution_count": 48,
   "id": "64ccaa1e",
   "metadata": {},
   "outputs": [],
   "source": [
    "import numpy as np"
   ]
  },
  {
   "cell_type": "code",
   "execution_count": 49,
   "id": "d1e228f4",
   "metadata": {},
   "outputs": [
    {
     "data": {
      "text/plain": [
       "array([0, 1, 2, 3, 4])"
      ]
     },
     "execution_count": 49,
     "metadata": {},
     "output_type": "execute_result"
    }
   ],
   "source": [
    "np.arange(5)"
   ]
  },
  {
   "cell_type": "code",
   "execution_count": 50,
   "id": "9c9a9d73",
   "metadata": {},
   "outputs": [
    {
     "data": {
      "text/plain": [
       "array([5, 6, 7, 8, 9])"
      ]
     },
     "execution_count": 50,
     "metadata": {},
     "output_type": "execute_result"
    }
   ],
   "source": [
    "np.arange(5, 10)"
   ]
  },
  {
   "cell_type": "code",
   "execution_count": 51,
   "id": "e1484d8a",
   "metadata": {},
   "outputs": [
    {
     "data": {
      "text/plain": [
       "array([10,  8,  6,  4,  2])"
      ]
     },
     "execution_count": 51,
     "metadata": {},
     "output_type": "execute_result"
    }
   ],
   "source": [
    "np.arange(10, 1, -2)"
   ]
  },
  {
   "cell_type": "markdown",
   "id": "9f7d012d",
   "metadata": {},
   "source": [
    "Creating Floating-Point Ranges with linspace"
   ]
  },
  {
   "cell_type": "markdown",
   "id": "4a958670",
   "metadata": {},
   "source": [
    "You can produce evenly spaced floating-point ranges with NumPy’s linspace function. The function’s first two arguments specify the starting and ending values in the range, and the ending value is included in the array."
   ]
  },
  {
   "cell_type": "code",
   "execution_count": 52,
   "id": "5c5cc609",
   "metadata": {},
   "outputs": [
    {
     "data": {
      "text/plain": [
       "array([0.  , 0.25, 0.5 , 0.75, 1.  ])"
      ]
     },
     "execution_count": 52,
     "metadata": {},
     "output_type": "execute_result"
    }
   ],
   "source": [
    "np.linspace(0.0, 1.0, num=5)"
   ]
  },
  {
   "cell_type": "markdown",
   "id": "9ba7a610",
   "metadata": {},
   "source": [
    "Reshaping an array"
   ]
  },
  {
   "cell_type": "markdown",
   "id": "d97262a7",
   "metadata": {},
   "source": [
    "You also can create an array from a range of elements, then use array method reshape to transform the one-dimensional array into a multidimensional array. "
   ]
  },
  {
   "cell_type": "code",
   "execution_count": 53,
   "id": "fa70f70f",
   "metadata": {},
   "outputs": [
    {
     "data": {
      "text/plain": [
       "array([[ 1,  2,  3,  4,  5],\n",
       "       [ 6,  7,  8,  9, 10],\n",
       "       [11, 12, 13, 14, 15],\n",
       "       [16, 17, 18, 19, 20]])"
      ]
     },
     "execution_count": 53,
     "metadata": {},
     "output_type": "execute_result"
    }
   ],
   "source": [
    "np.arange(1, 21).reshape(4, 5)"
   ]
  },
  {
   "cell_type": "markdown",
   "id": "47269dbe",
   "metadata": {},
   "source": [
    "Note: You can reshape any array, provided that the new shape has the same number of elements as the original."
   ]
  },
  {
   "cell_type": "markdown",
   "id": "e3c455ca",
   "metadata": {},
   "source": [
    "Displaying Large arrays"
   ]
  },
  {
   "cell_type": "markdown",
   "id": "fd6d465c",
   "metadata": {},
   "source": [
    "When displaying an array, if there are 1000 items or more, NumPy drops the middle rows, columns or both from the output. "
   ]
  },
  {
   "cell_type": "code",
   "execution_count": 54,
   "id": "de70e995",
   "metadata": {},
   "outputs": [
    {
     "data": {
      "text/plain": [
       "array([[     1,      2,      3, ...,  24998,  24999,  25000],\n",
       "       [ 25001,  25002,  25003, ...,  49998,  49999,  50000],\n",
       "       [ 50001,  50002,  50003, ...,  74998,  74999,  75000],\n",
       "       [ 75001,  75002,  75003, ...,  99998,  99999, 100000]])"
      ]
     },
     "execution_count": 54,
     "metadata": {},
     "output_type": "execute_result"
    }
   ],
   "source": [
    "np.arange(1, 100001).reshape(4, 25000)"
   ]
  },
  {
   "cell_type": "code",
   "execution_count": 55,
   "id": "1ddfaa10",
   "metadata": {},
   "outputs": [
    {
     "data": {
      "text/plain": [
       "array([[     1,      2,      3, ...,    998,    999,   1000],\n",
       "       [  1001,   1002,   1003, ...,   1998,   1999,   2000],\n",
       "       [  2001,   2002,   2003, ...,   2998,   2999,   3000],\n",
       "       ...,\n",
       "       [ 97001,  97002,  97003, ...,  97998,  97999,  98000],\n",
       "       [ 98001,  98002,  98003, ...,  98998,  98999,  99000],\n",
       "       [ 99001,  99002,  99003, ...,  99998,  99999, 100000]])"
      ]
     },
     "execution_count": 55,
     "metadata": {},
     "output_type": "execute_result"
    }
   ],
   "source": [
    "np.arange(1, 100001).reshape(100, 1000)"
   ]
  },
  {
   "cell_type": "markdown",
   "id": "0b782d07",
   "metadata": {},
   "source": [
    "Self Check: Use NumPy function arange to create an array of 20 even integers from 2 through 40, then reshape the result into a 4-by-5 array."
   ]
  },
  {
   "cell_type": "code",
   "execution_count": 56,
   "id": "fa9082d0",
   "metadata": {},
   "outputs": [],
   "source": [
    "import numpy as np"
   ]
  },
  {
   "cell_type": "code",
   "execution_count": 57,
   "id": "c6269262",
   "metadata": {},
   "outputs": [
    {
     "data": {
      "text/plain": [
       "array([[ 2,  4,  6,  8, 10],\n",
       "       [12, 14, 16, 18, 20],\n",
       "       [22, 24, 26, 28, 30],\n",
       "       [32, 34, 36, 38, 40]])"
      ]
     },
     "execution_count": 57,
     "metadata": {},
     "output_type": "execute_result"
    }
   ],
   "source": [
    "np.arange(2, 41, 2).reshape(4, 5)"
   ]
  },
  {
   "cell_type": "markdown",
   "id": "604d0fd6",
   "metadata": {},
   "source": [
    "## 7.6 List vs. array Performance: Introducing %timeit"
   ]
  },
  {
   "cell_type": "markdown",
   "id": "d08c8763",
   "metadata": {},
   "source": [
    "Using the randrange function with a list comprehension to create a list of six million die rolls and time the operation using %timeit:"
   ]
  },
  {
   "cell_type": "code",
   "execution_count": 58,
   "id": "62041a5a",
   "metadata": {},
   "outputs": [],
   "source": [
    "import random"
   ]
  },
  {
   "cell_type": "code",
   "execution_count": 62,
   "id": "ffc98205",
   "metadata": {},
   "outputs": [
    {
     "name": "stdout",
     "output_type": "stream",
     "text": [
      "4 s ± 661 ms per loop (mean ± std. dev. of 7 runs, 1 loop each)\n"
     ]
    }
   ],
   "source": [
    "%timeit rolls_list = \\\n",
    "    [random.randrange(1, 7) for i in range(0, 6_000_000)]"
   ]
  },
  {
   "cell_type": "markdown",
   "id": "289a310e",
   "metadata": {},
   "source": [
    "Book answer differed: 6.29 s ± 119 ms per loop (mean ± std. dev. of 7 runs, 1 loop each)"
   ]
  },
  {
   "cell_type": "markdown",
   "id": "3ea0e3bf",
   "metadata": {},
   "source": [
    "Now, let’s use the randint function from the numpy.random module to create an array of 6,000,000 die rolls:"
   ]
  },
  {
   "cell_type": "code",
   "execution_count": 63,
   "id": "7c35b9fd",
   "metadata": {},
   "outputs": [],
   "source": [
    "import numpy as np"
   ]
  },
  {
   "cell_type": "code",
   "execution_count": 64,
   "id": "fe037c5a",
   "metadata": {},
   "outputs": [
    {
     "name": "stdout",
     "output_type": "stream",
     "text": [
      "37.8 ms ± 1.2 ms per loop (mean ± std. dev. of 7 runs, 10 loops each)\n"
     ]
    }
   ],
   "source": [
    "%timeit rolls_array = np.random.randint(1, 7, 6_000_000)"
   ]
  },
  {
   "cell_type": "markdown",
   "id": "86328874",
   "metadata": {},
   "source": [
    "Book answer differed: 72.4 ms ± 635 μs per loop (mean ± std. dev. of 7 runs, 10 loops each)"
   ]
  },
  {
   "cell_type": "markdown",
   "id": "1b40dea0",
   "metadata": {},
   "source": [
    "Now, let’s create an array of 60,000,000 die rolls:"
   ]
  },
  {
   "cell_type": "code",
   "execution_count": 65,
   "id": "b8895c19",
   "metadata": {},
   "outputs": [
    {
     "name": "stdout",
     "output_type": "stream",
     "text": [
      "3.98 s ± 97.3 ms per loop (mean ± std. dev. of 7 runs, 1 loop each)\n"
     ]
    }
   ],
   "source": [
    "%timeit rolls_array = np.random.randint(1, 7, 600_000_000)"
   ]
  },
  {
   "cell_type": "markdown",
   "id": "047b1586",
   "metadata": {},
   "source": [
    "Book answer differed: 10.1 s ± 232 ms per loop (mean ± std. dev. of 7 runs, 1 loop each)"
   ]
  },
  {
   "cell_type": "markdown",
   "id": "5f8dc0a3",
   "metadata": {},
   "source": [
    "Customizing the %timeit Iterations"
   ]
  },
  {
   "cell_type": "markdown",
   "id": "0642ced7",
   "metadata": {},
   "source": [
    "The number of iterations within each %timeit loop and the number of loops are customizable with the -n and -r options:"
   ]
  },
  {
   "cell_type": "code",
   "execution_count": 66,
   "id": "d7acba22",
   "metadata": {},
   "outputs": [
    {
     "name": "stdout",
     "output_type": "stream",
     "text": [
      "40.6 ms ± 3.62 ms per loop (mean ± std. dev. of 2 runs, 3 loops each)\n"
     ]
    }
   ],
   "source": [
    "%timeit -n3 -r2 rolls_array = np.random.randint(1, 7, 6_000_000)"
   ]
  },
  {
   "cell_type": "markdown",
   "id": "a76baceb",
   "metadata": {},
   "source": [
    "Other IPython Magics: IPython provides dozens of magics for a variety of tasks—for a complete list, see the IPython magics documentation.3 Here are a few helpful ones:"
   ]
  },
  {
   "cell_type": "markdown",
   "id": "a5fbbc23",
   "metadata": {},
   "source": [
    "%load to read code into IPython from a local file or URL.\n",
    "%save to save snippets to a file.\n",
    "%run to execute a .py file from IPython.\n",
    "%precision to change the default floating-point precision for IPython outputs.\n",
    "%cd to change directories without having to exit IPython first.\n",
    "%edit to launch an external editor—handy if you need to modify more complex snippets.\n",
    "%history to view a list of all snippets and commands you’ve executed in the current IPython session."
   ]
  },
  {
   "cell_type": "markdown",
   "id": "b946fc5f",
   "metadata": {},
   "source": [
    "Self Check: "
   ]
  },
  {
   "cell_type": "code",
   "execution_count": 67,
   "id": "65b38910",
   "metadata": {},
   "outputs": [],
   "source": [
    "import numpy as np"
   ]
  },
  {
   "cell_type": "code",
   "execution_count": 68,
   "id": "2798d573",
   "metadata": {},
   "outputs": [
    {
     "data": {
      "text/plain": [
       "-2014260032"
      ]
     },
     "execution_count": 68,
     "metadata": {},
     "output_type": "execute_result"
    }
   ],
   "source": [
    "sum([x for x in range(10_000_000)])\n",
    "np.arange(10_000_000).sum()"
   ]
  },
  {
   "cell_type": "code",
   "execution_count": 70,
   "id": "593e22b1",
   "metadata": {},
   "outputs": [
    {
     "name": "stdout",
     "output_type": "stream",
     "text": [
      "535 ms ± 16 ms per loop (mean ± std. dev. of 7 runs, 1 loop each)\n"
     ]
    }
   ],
   "source": [
    "%timeit sum([x for x in range(10_000_000)])"
   ]
  },
  {
   "cell_type": "code",
   "execution_count": 71,
   "id": "456aebc5",
   "metadata": {},
   "outputs": [
    {
     "name": "stdout",
     "output_type": "stream",
     "text": [
      "11.6 ms ± 333 µs per loop (mean ± std. dev. of 7 runs, 100 loops each)\n"
     ]
    }
   ],
   "source": [
    "%timeit np.arange(10_000_000).sum()"
   ]
  },
  {
   "cell_type": "markdown",
   "id": "a0f9a3b2",
   "metadata": {},
   "source": [
    "## 7.7 array Operators"
   ]
  },
  {
   "cell_type": "markdown",
   "id": "db4b7b4e",
   "metadata": {},
   "source": [
    "Arithmetic Operations with arrays and Individual Numeric Values"
   ]
  },
  {
   "cell_type": "code",
   "execution_count": 72,
   "id": "3ad7a1a5",
   "metadata": {},
   "outputs": [],
   "source": [
    "import numpy as np"
   ]
  },
  {
   "cell_type": "code",
   "execution_count": 73,
   "id": "6f5420be",
   "metadata": {},
   "outputs": [],
   "source": [
    "numbers = np.arange(1, 6)"
   ]
  },
  {
   "cell_type": "code",
   "execution_count": 74,
   "id": "68a7020d",
   "metadata": {},
   "outputs": [
    {
     "data": {
      "text/plain": [
       "array([1, 2, 3, 4, 5])"
      ]
     },
     "execution_count": 74,
     "metadata": {},
     "output_type": "execute_result"
    }
   ],
   "source": [
    "numbers"
   ]
  },
  {
   "cell_type": "code",
   "execution_count": 75,
   "id": "4ec799b4",
   "metadata": {},
   "outputs": [
    {
     "data": {
      "text/plain": [
       "array([ 2,  4,  6,  8, 10])"
      ]
     },
     "execution_count": 75,
     "metadata": {},
     "output_type": "execute_result"
    }
   ],
   "source": [
    " numbers * 2"
   ]
  },
  {
   "cell_type": "code",
   "execution_count": 76,
   "id": "b03eaed8",
   "metadata": {},
   "outputs": [
    {
     "data": {
      "text/plain": [
       "array([  1,   8,  27,  64, 125], dtype=int32)"
      ]
     },
     "execution_count": 76,
     "metadata": {},
     "output_type": "execute_result"
    }
   ],
   "source": [
    "numbers ** 3"
   ]
  },
  {
   "cell_type": "code",
   "execution_count": 77,
   "id": "208ae561",
   "metadata": {},
   "outputs": [
    {
     "data": {
      "text/plain": [
       "array([1, 2, 3, 4, 5])"
      ]
     },
     "execution_count": 77,
     "metadata": {},
     "output_type": "execute_result"
    }
   ],
   "source": [
    "numbers # numbers is unchanged by the arithmetic operators"
   ]
  },
  {
   "cell_type": "code",
   "execution_count": 92,
   "id": "2aa776c6",
   "metadata": {},
   "outputs": [],
   "source": [
    "numbers = np.arange(1, 6)"
   ]
  },
  {
   "cell_type": "code",
   "execution_count": 93,
   "id": "0b29c110",
   "metadata": {},
   "outputs": [
    {
     "data": {
      "text/plain": [
       "array([1, 2, 3, 4, 5])"
      ]
     },
     "execution_count": 93,
     "metadata": {},
     "output_type": "execute_result"
    }
   ],
   "source": [
    "numbers"
   ]
  },
  {
   "cell_type": "code",
   "execution_count": 94,
   "id": "440eae07",
   "metadata": {},
   "outputs": [],
   "source": [
    "numbers += 10"
   ]
  },
  {
   "cell_type": "code",
   "execution_count": 95,
   "id": "53203369",
   "metadata": {},
   "outputs": [
    {
     "data": {
      "text/plain": [
       "array([11, 12, 13, 14, 15])"
      ]
     },
     "execution_count": 95,
     "metadata": {},
     "output_type": "execute_result"
    }
   ],
   "source": [
    "numbers #Augmented assignments modify every element in the left operand."
   ]
  },
  {
   "cell_type": "markdown",
   "id": "44307cfa",
   "metadata": {},
   "source": [
    "Broadcasting"
   ]
  },
  {
   "cell_type": "markdown",
   "id": "ccf3842c",
   "metadata": {},
   "source": [
    "When one operand is a single value, called a scalar, NumPy performs the element-wise calculations as if the scalar were an array of the same shape as the other operand, but with the scalar value in all its elements. This is called broadcasting."
   ]
  },
  {
   "cell_type": "code",
   "execution_count": 96,
   "id": "26a2553e",
   "metadata": {},
   "outputs": [
    {
     "data": {
      "text/plain": [
       "array([22, 24, 26, 28, 30])"
      ]
     },
     "execution_count": 96,
     "metadata": {},
     "output_type": "execute_result"
    }
   ],
   "source": [
    "numbers * [2, 2, 2, 2, 2]"
   ]
  },
  {
   "cell_type": "markdown",
   "id": "18cc6470",
   "metadata": {},
   "source": [
    "Arithmetic Operations Between arrays"
   ]
  },
  {
   "cell_type": "code",
   "execution_count": 97,
   "id": "5da5d272",
   "metadata": {},
   "outputs": [],
   "source": [
    "numbers2 = np.linspace(1.1, 5.5, 5)"
   ]
  },
  {
   "cell_type": "code",
   "execution_count": 98,
   "id": "6300dfc9",
   "metadata": {},
   "outputs": [
    {
     "data": {
      "text/plain": [
       "array([1.1, 2.2, 3.3, 4.4, 5.5])"
      ]
     },
     "execution_count": 98,
     "metadata": {},
     "output_type": "execute_result"
    }
   ],
   "source": [
    "numbers2"
   ]
  },
  {
   "cell_type": "code",
   "execution_count": 99,
   "id": "a67fab9f",
   "metadata": {},
   "outputs": [
    {
     "data": {
      "text/plain": [
       "array([12.1, 26.4, 42.9, 61.6, 82.5])"
      ]
     },
     "execution_count": 99,
     "metadata": {},
     "output_type": "execute_result"
    }
   ],
   "source": [
    "numbers * numbers2"
   ]
  },
  {
   "cell_type": "markdown",
   "id": "07629e00",
   "metadata": {},
   "source": [
    "Comparing arrays"
   ]
  },
  {
   "cell_type": "code",
   "execution_count": 100,
   "id": "4281d9cc",
   "metadata": {},
   "outputs": [
    {
     "data": {
      "text/plain": [
       "array([11, 12, 13, 14, 15])"
      ]
     },
     "execution_count": 100,
     "metadata": {},
     "output_type": "execute_result"
    }
   ],
   "source": [
    "numbers"
   ]
  },
  {
   "cell_type": "code",
   "execution_count": 101,
   "id": "cb828369",
   "metadata": {},
   "outputs": [
    {
     "data": {
      "text/plain": [
       "array([False, False,  True,  True,  True])"
      ]
     },
     "execution_count": 101,
     "metadata": {},
     "output_type": "execute_result"
    }
   ],
   "source": [
    "numbers >= 13"
   ]
  },
  {
   "cell_type": "code",
   "execution_count": 102,
   "id": "24227990",
   "metadata": {},
   "outputs": [
    {
     "data": {
      "text/plain": [
       "array([1.1, 2.2, 3.3, 4.4, 5.5])"
      ]
     },
     "execution_count": 102,
     "metadata": {},
     "output_type": "execute_result"
    }
   ],
   "source": [
    "numbers2"
   ]
  },
  {
   "cell_type": "code",
   "execution_count": 103,
   "id": "b92ef163",
   "metadata": {},
   "outputs": [
    {
     "data": {
      "text/plain": [
       "array([ True,  True,  True,  True,  True])"
      ]
     },
     "execution_count": 103,
     "metadata": {},
     "output_type": "execute_result"
    }
   ],
   "source": [
    "numbers2 < numbers"
   ]
  },
  {
   "cell_type": "code",
   "execution_count": 104,
   "id": "c9a67733",
   "metadata": {},
   "outputs": [
    {
     "data": {
      "text/plain": [
       "array([False, False, False, False, False])"
      ]
     },
     "execution_count": 104,
     "metadata": {},
     "output_type": "execute_result"
    }
   ],
   "source": [
    "numbers == numbers2"
   ]
  },
  {
   "cell_type": "code",
   "execution_count": 105,
   "id": "b91d1399",
   "metadata": {},
   "outputs": [
    {
     "data": {
      "text/plain": [
       "array([ True,  True,  True,  True,  True])"
      ]
     },
     "execution_count": 105,
     "metadata": {},
     "output_type": "execute_result"
    }
   ],
   "source": [
    "numbers == numbers"
   ]
  },
  {
   "cell_type": "markdown",
   "id": "64d051c7",
   "metadata": {},
   "source": [
    "Self Check: Create an array of the values from 1 through 5, then use broadcasting to square each value."
   ]
  },
  {
   "cell_type": "code",
   "execution_count": 106,
   "id": "37b2b183",
   "metadata": {},
   "outputs": [],
   "source": [
    "import numpy as np"
   ]
  },
  {
   "cell_type": "code",
   "execution_count": 107,
   "id": "8560a862",
   "metadata": {},
   "outputs": [],
   "source": [
    "Squared = np.arange(1, 6)"
   ]
  },
  {
   "cell_type": "code",
   "execution_count": 108,
   "id": "22927df0",
   "metadata": {},
   "outputs": [
    {
     "data": {
      "text/plain": [
       "array([1, 2, 3, 4, 5])"
      ]
     },
     "execution_count": 108,
     "metadata": {},
     "output_type": "execute_result"
    }
   ],
   "source": [
    "Squared"
   ]
  },
  {
   "cell_type": "code",
   "execution_count": 110,
   "id": "a57d82ae",
   "metadata": {},
   "outputs": [
    {
     "data": {
      "text/plain": [
       "array([ 1,  4,  9, 16, 25])"
      ]
     },
     "execution_count": 110,
     "metadata": {},
     "output_type": "execute_result"
    }
   ],
   "source": [
    "Squared ** 2"
   ]
  },
  {
   "cell_type": "markdown",
   "id": "5d7e63b9",
   "metadata": {},
   "source": [
    "Book answer for self check:"
   ]
  },
  {
   "cell_type": "code",
   "execution_count": 111,
   "id": "1fabbd70",
   "metadata": {},
   "outputs": [
    {
     "data": {
      "text/plain": [
       "array([ 1,  4,  9, 16, 25])"
      ]
     },
     "execution_count": 111,
     "metadata": {},
     "output_type": "execute_result"
    }
   ],
   "source": [
    "np.arange(1, 6) ** 2"
   ]
  },
  {
   "cell_type": "markdown",
   "id": "afc75a59",
   "metadata": {},
   "source": [
    "## 7.8 NumPy Calculation Methods"
   ]
  },
  {
   "cell_type": "markdown",
   "id": "e101aabd",
   "metadata": {},
   "source": [
    "An array has various methods that perform calculations using its contents. By default, these methods ignore the array’s shape and use all the elements in the calculations."
   ]
  },
  {
   "cell_type": "code",
   "execution_count": 112,
   "id": "80a5d48c",
   "metadata": {},
   "outputs": [],
   "source": [
    "import numpy as np"
   ]
  },
  {
   "cell_type": "code",
   "execution_count": 113,
   "id": "115a5950",
   "metadata": {},
   "outputs": [],
   "source": [
    "grades = np.array([[87, 96, 70], [100, 87, 90], [94, 77, 90], [100, 81, 82]])"
   ]
  },
  {
   "cell_type": "code",
   "execution_count": 114,
   "id": "96898efb",
   "metadata": {},
   "outputs": [
    {
     "data": {
      "text/plain": [
       "array([[ 87,  96,  70],\n",
       "       [100,  87,  90],\n",
       "       [ 94,  77,  90],\n",
       "       [100,  81,  82]])"
      ]
     },
     "execution_count": 114,
     "metadata": {},
     "output_type": "execute_result"
    }
   ],
   "source": [
    "grades"
   ]
  },
  {
   "cell_type": "markdown",
   "id": "2d6043df",
   "metadata": {},
   "source": [
    "We can use methods to calculate sum, min, max, mean, std (standard deviation) and var (variance)—each is a functional-style programming reduction:"
   ]
  },
  {
   "cell_type": "code",
   "execution_count": 115,
   "id": "e0c3fb9a",
   "metadata": {},
   "outputs": [
    {
     "data": {
      "text/plain": [
       "1054"
      ]
     },
     "execution_count": 115,
     "metadata": {},
     "output_type": "execute_result"
    }
   ],
   "source": [
    "grades.sum()"
   ]
  },
  {
   "cell_type": "code",
   "execution_count": 116,
   "id": "ffa45f83",
   "metadata": {},
   "outputs": [
    {
     "data": {
      "text/plain": [
       "70"
      ]
     },
     "execution_count": 116,
     "metadata": {},
     "output_type": "execute_result"
    }
   ],
   "source": [
    " grades.min()"
   ]
  },
  {
   "cell_type": "code",
   "execution_count": 117,
   "id": "4e9b2b63",
   "metadata": {},
   "outputs": [
    {
     "data": {
      "text/plain": [
       "100"
      ]
     },
     "execution_count": 117,
     "metadata": {},
     "output_type": "execute_result"
    }
   ],
   "source": [
    " grades.max()"
   ]
  },
  {
   "cell_type": "code",
   "execution_count": 118,
   "id": "2565c0c0",
   "metadata": {},
   "outputs": [
    {
     "data": {
      "text/plain": [
       "87.83333333333333"
      ]
     },
     "execution_count": 118,
     "metadata": {},
     "output_type": "execute_result"
    }
   ],
   "source": [
    "grades.mean()"
   ]
  },
  {
   "cell_type": "code",
   "execution_count": 119,
   "id": "04d8a711",
   "metadata": {},
   "outputs": [
    {
     "data": {
      "text/plain": [
       "8.792357792739987"
      ]
     },
     "execution_count": 119,
     "metadata": {},
     "output_type": "execute_result"
    }
   ],
   "source": [
    "grades.std()"
   ]
  },
  {
   "cell_type": "code",
   "execution_count": 120,
   "id": "4778bcfd",
   "metadata": {},
   "outputs": [
    {
     "data": {
      "text/plain": [
       "77.30555555555556"
      ]
     },
     "execution_count": 120,
     "metadata": {},
     "output_type": "execute_result"
    }
   ],
   "source": [
    "grades.var()"
   ]
  },
  {
   "cell_type": "markdown",
   "id": "f5c72475",
   "metadata": {},
   "source": [
    "Calculations by Row or Column"
   ]
  },
  {
   "cell_type": "markdown",
   "id": "ac29640f",
   "metadata": {},
   "source": [
    "Many calculation methods can be performed on specific array dimensions, known as the array’s axes. These methods receive an axis keyword argument that specifies which dimension to use in the calculation"
   ]
  },
  {
   "cell_type": "code",
   "execution_count": 121,
   "id": "831b0b3a",
   "metadata": {},
   "outputs": [
    {
     "data": {
      "text/plain": [
       "array([95.25, 85.25, 83.  ])"
      ]
     },
     "execution_count": 121,
     "metadata": {},
     "output_type": "execute_result"
    }
   ],
   "source": [
    "grades.mean(axis=0)"
   ]
  },
  {
   "cell_type": "code",
   "execution_count": 122,
   "id": "ffc0af87",
   "metadata": {},
   "outputs": [
    {
     "data": {
      "text/plain": [
       "array([84.33333333, 92.33333333, 87.        , 87.66666667])"
      ]
     },
     "execution_count": 122,
     "metadata": {},
     "output_type": "execute_result"
    }
   ],
   "source": [
    "grades.mean(axis=1)"
   ]
  },
  {
   "cell_type": "markdown",
   "id": "0d7b6fad",
   "metadata": {},
   "source": [
    "Self Check: Use NumPy random-number generation to create an array of twelve random grades in the range 60 through 100, then reshape the result into a 3-by-4 array. Calculate the average of all the grades, the averages of the grades in each column and the averages of the grades in each row."
   ]
  },
  {
   "cell_type": "code",
   "execution_count": 129,
   "id": "a4f9a9fc",
   "metadata": {},
   "outputs": [],
   "source": [
    "import numpy as np"
   ]
  },
  {
   "cell_type": "code",
   "execution_count": 130,
   "id": "14d58694",
   "metadata": {},
   "outputs": [],
   "source": [
    "grades = np.random.randint(60, 101, 12).reshape(3, 4)"
   ]
  },
  {
   "cell_type": "code",
   "execution_count": 131,
   "id": "4d7af923",
   "metadata": {},
   "outputs": [
    {
     "data": {
      "text/plain": [
       "array([[77, 77, 90, 72],\n",
       "       [79, 68, 90, 93],\n",
       "       [91, 68, 76, 77]])"
      ]
     },
     "execution_count": 131,
     "metadata": {},
     "output_type": "execute_result"
    }
   ],
   "source": [
    "grades"
   ]
  },
  {
   "cell_type": "code",
   "execution_count": 132,
   "id": "85d6b5bf",
   "metadata": {},
   "outputs": [
    {
     "data": {
      "text/plain": [
       "79.83333333333333"
      ]
     },
     "execution_count": 132,
     "metadata": {},
     "output_type": "execute_result"
    }
   ],
   "source": [
    " grades.mean()"
   ]
  },
  {
   "cell_type": "code",
   "execution_count": 133,
   "id": "1ea29d33",
   "metadata": {},
   "outputs": [
    {
     "data": {
      "text/plain": [
       "array([82.33333333, 71.        , 85.33333333, 80.66666667])"
      ]
     },
     "execution_count": 133,
     "metadata": {},
     "output_type": "execute_result"
    }
   ],
   "source": [
    "grades.mean(axis=0)"
   ]
  },
  {
   "cell_type": "code",
   "execution_count": 134,
   "id": "7a9dba84",
   "metadata": {},
   "outputs": [
    {
     "data": {
      "text/plain": [
       "array([79. , 82.5, 78. ])"
      ]
     },
     "execution_count": 134,
     "metadata": {},
     "output_type": "execute_result"
    }
   ],
   "source": [
    "grades.mean(axis=1)"
   ]
  },
  {
   "cell_type": "markdown",
   "id": "ca279f44",
   "metadata": {},
   "source": [
    "## 7.9 Universal Functions"
   ]
  },
  {
   "cell_type": "markdown",
   "id": "f4136ad4",
   "metadata": {},
   "source": [
    "NumPy offers dozens of standalone universal functions (or ufuncs) that perform various element-wise operations. Each performs its task using one or two array or array-like (such as lists) arguments."
   ]
  },
  {
   "cell_type": "code",
   "execution_count": 135,
   "id": "fbd2d171",
   "metadata": {},
   "outputs": [],
   "source": [
    "import numpy as np"
   ]
  },
  {
   "cell_type": "code",
   "execution_count": 136,
   "id": "b1fec869",
   "metadata": {},
   "outputs": [],
   "source": [
    "numbers = np.array([1, 4, 9, 16, 25, 36])"
   ]
  },
  {
   "cell_type": "code",
   "execution_count": 137,
   "id": "d764aa48",
   "metadata": {},
   "outputs": [
    {
     "data": {
      "text/plain": [
       "array([1., 2., 3., 4., 5., 6.])"
      ]
     },
     "execution_count": 137,
     "metadata": {},
     "output_type": "execute_result"
    }
   ],
   "source": [
    "np.sqrt(numbers)"
   ]
  },
  {
   "cell_type": "markdown",
   "id": "59b3c8e3",
   "metadata": {},
   "source": [
    "Let’s add two arrays with the same shape, using the add universal function:"
   ]
  },
  {
   "cell_type": "code",
   "execution_count": 138,
   "id": "ee14ac3c",
   "metadata": {},
   "outputs": [],
   "source": [
    "numbers2 = np.arange(1, 7) * 10"
   ]
  },
  {
   "cell_type": "code",
   "execution_count": 139,
   "id": "2c873af3",
   "metadata": {},
   "outputs": [
    {
     "data": {
      "text/plain": [
       "array([10, 20, 30, 40, 50, 60])"
      ]
     },
     "execution_count": 139,
     "metadata": {},
     "output_type": "execute_result"
    }
   ],
   "source": [
    "numbers2"
   ]
  },
  {
   "cell_type": "code",
   "execution_count": 140,
   "id": "babecbf6",
   "metadata": {},
   "outputs": [
    {
     "data": {
      "text/plain": [
       "array([11, 24, 39, 56, 75, 96])"
      ]
     },
     "execution_count": 140,
     "metadata": {},
     "output_type": "execute_result"
    }
   ],
   "source": [
    "np.add(numbers, numbers2)"
   ]
  },
  {
   "cell_type": "markdown",
   "id": "e5b4df8d",
   "metadata": {},
   "source": [
    "Broadcasting with Universal Functions"
   ]
  },
  {
   "cell_type": "code",
   "execution_count": 141,
   "id": "292e2ac1",
   "metadata": {},
   "outputs": [
    {
     "data": {
      "text/plain": [
       "array([ 50, 100, 150, 200, 250, 300])"
      ]
     },
     "execution_count": 141,
     "metadata": {},
     "output_type": "execute_result"
    }
   ],
   "source": [
    "np.multiply(numbers2, 5)"
   ]
  },
  {
   "cell_type": "code",
   "execution_count": 142,
   "id": "e5d78c47",
   "metadata": {},
   "outputs": [
    {
     "data": {
      "text/plain": [
       "array([ 50, 100, 150, 200, 250, 300])"
      ]
     },
     "execution_count": 142,
     "metadata": {},
     "output_type": "execute_result"
    }
   ],
   "source": [
    "numbers2 * 5"
   ]
  },
  {
   "cell_type": "markdown",
   "id": "96c09c9f",
   "metadata": {},
   "source": [
    "Let’s reshape numbers2 into a 2-by-3 array, then multiply its values by a one-dimensional array of three elements:"
   ]
  },
  {
   "cell_type": "code",
   "execution_count": 143,
   "id": "ee2b575b",
   "metadata": {},
   "outputs": [],
   "source": [
    "numbers3 = numbers2.reshape(2, 3)"
   ]
  },
  {
   "cell_type": "code",
   "execution_count": 144,
   "id": "ca27a541",
   "metadata": {},
   "outputs": [
    {
     "data": {
      "text/plain": [
       "array([[10, 20, 30],\n",
       "       [40, 50, 60]])"
      ]
     },
     "execution_count": 144,
     "metadata": {},
     "output_type": "execute_result"
    }
   ],
   "source": [
    "numbers3"
   ]
  },
  {
   "cell_type": "code",
   "execution_count": null,
   "id": "fbab6c8b",
   "metadata": {},
   "outputs": [],
   "source": []
  },
  {
   "cell_type": "code",
   "execution_count": 145,
   "id": "dadf465f",
   "metadata": {},
   "outputs": [],
   "source": [
    "numbers4 = np.array([2, 4, 6])"
   ]
  },
  {
   "cell_type": "code",
   "execution_count": 146,
   "id": "dd3a11ba",
   "metadata": {},
   "outputs": [
    {
     "data": {
      "text/plain": [
       "array([[ 20,  80, 180],\n",
       "       [ 80, 200, 360]])"
      ]
     },
     "execution_count": 146,
     "metadata": {},
     "output_type": "execute_result"
    }
   ],
   "source": [
    " np.multiply(numbers3, numbers4)"
   ]
  },
  {
   "cell_type": "markdown",
   "id": "1619db8b",
   "metadata": {},
   "source": [
    "Other Universal Functions"
   ]
  },
  {
   "cell_type": "markdown",
   "id": "17d190e2",
   "metadata": {},
   "source": [
    "Math—add, subtract, multiply, divide, remainder, exp, log, sqrt, power, and more.\n",
    "Trigonometry—sin, cos, tan, hypot, arcsin, arccos, arctan, and more.\n",
    "Bit manipulation—bitwise_and, bitwise_or, bitwise_xor, invert, left_shift and right_shift.\n",
    "Comparison—greater, greater_equal, less, less_equal, equal, not_equal, logical_and, logical_or, logical_xor, logical_not, minimum, maximum, and more."
   ]
  },
  {
   "cell_type": "markdown",
   "id": "a9cb49f1",
   "metadata": {},
   "source": [
    "Self Check: Create an array of the values from 1 through 5, then use the power universal function and broadcasting to cube each value."
   ]
  },
  {
   "cell_type": "code",
   "execution_count": 151,
   "id": "fa41816f",
   "metadata": {},
   "outputs": [],
   "source": [
    "cat = np.arange(1, 6) ** 3"
   ]
  },
  {
   "cell_type": "code",
   "execution_count": 152,
   "id": "c0a4e9ce",
   "metadata": {},
   "outputs": [
    {
     "data": {
      "text/plain": [
       "array([  1,   8,  27,  64, 125], dtype=int32)"
      ]
     },
     "execution_count": 152,
     "metadata": {},
     "output_type": "execute_result"
    }
   ],
   "source": [
    "cat"
   ]
  },
  {
   "cell_type": "markdown",
   "id": "7b30cd93",
   "metadata": {},
   "source": [
    "Book Answer for self check:"
   ]
  },
  {
   "cell_type": "code",
   "execution_count": 154,
   "id": "2f7c9f38",
   "metadata": {},
   "outputs": [],
   "source": [
    "import numpy as np"
   ]
  },
  {
   "cell_type": "code",
   "execution_count": null,
   "id": "8fe50577",
   "metadata": {},
   "outputs": [],
   "source": [
    "numbers = np.arange(1, 6)"
   ]
  },
  {
   "cell_type": "code",
   "execution_count": 156,
   "id": "208701ca",
   "metadata": {},
   "outputs": [
    {
     "data": {
      "text/plain": [
       "array([ 1,  4,  9, 16, 25, 36])"
      ]
     },
     "execution_count": 156,
     "metadata": {},
     "output_type": "execute_result"
    }
   ],
   "source": [
    "numbers"
   ]
  },
  {
   "cell_type": "code",
   "execution_count": 157,
   "id": "4f98153a",
   "metadata": {},
   "outputs": [
    {
     "data": {
      "text/plain": [
       "array([    1,    64,   729,  4096, 15625, 46656], dtype=int32)"
      ]
     },
     "execution_count": 157,
     "metadata": {},
     "output_type": "execute_result"
    }
   ],
   "source": [
    "np.power(numbers, 3) #This is how the book has the code written, but the book got the same answers as I did above not what I'm getting with the code they have"
   ]
  },
  {
   "cell_type": "markdown",
   "id": "1be148b2",
   "metadata": {},
   "source": [
    "## 7.10 Indexing and Slicing "
   ]
  },
  {
   "cell_type": "markdown",
   "id": "c660fdc8",
   "metadata": {},
   "source": [
    "One-dimensional arrays can be indexed and sliced using the same syntax and techniques we demonstrated in the “Sequences: Lists and Tuples” chapter. "
   ]
  },
  {
   "cell_type": "markdown",
   "id": "4b732b9b",
   "metadata": {},
   "source": [
    "Indexing with Two-Dimensional arrays"
   ]
  },
  {
   "cell_type": "code",
   "execution_count": 158,
   "id": "ec26a440",
   "metadata": {},
   "outputs": [],
   "source": [
    "import numpy as np"
   ]
  },
  {
   "cell_type": "code",
   "execution_count": 159,
   "id": "279aff51",
   "metadata": {},
   "outputs": [],
   "source": [
    "grades = np.array([[87, 96, 70], [100, 87, 90], [94, 77, 90], [100, 81, 82]])"
   ]
  },
  {
   "cell_type": "code",
   "execution_count": 160,
   "id": "0920f151",
   "metadata": {},
   "outputs": [
    {
     "data": {
      "text/plain": [
       "array([[ 87,  96,  70],\n",
       "       [100,  87,  90],\n",
       "       [ 94,  77,  90],\n",
       "       [100,  81,  82]])"
      ]
     },
     "execution_count": 160,
     "metadata": {},
     "output_type": "execute_result"
    }
   ],
   "source": [
    "grades"
   ]
  },
  {
   "cell_type": "code",
   "execution_count": 161,
   "id": "324015d5",
   "metadata": {},
   "outputs": [
    {
     "data": {
      "text/plain": [
       "96"
      ]
     },
     "execution_count": 161,
     "metadata": {},
     "output_type": "execute_result"
    }
   ],
   "source": [
    "grades[0, 1] # row 0, column 1"
   ]
  },
  {
   "cell_type": "markdown",
   "id": "02753ce1",
   "metadata": {},
   "source": [
    "Selecting a Subset of a Two-Dimensional array’s Rows"
   ]
  },
  {
   "cell_type": "markdown",
   "id": "df2f8f74",
   "metadata": {},
   "source": [
    "To select a single row, specify only one index in square brackets:"
   ]
  },
  {
   "cell_type": "code",
   "execution_count": 162,
   "id": "fa8843a6",
   "metadata": {},
   "outputs": [
    {
     "data": {
      "text/plain": [
       "array([100,  87,  90])"
      ]
     },
     "execution_count": 162,
     "metadata": {},
     "output_type": "execute_result"
    }
   ],
   "source": [
    "grades[1]"
   ]
  },
  {
   "cell_type": "markdown",
   "id": "1b37fb3e",
   "metadata": {},
   "source": [
    "To select multiple sequential rows, use slice notation:"
   ]
  },
  {
   "cell_type": "code",
   "execution_count": 163,
   "id": "ff8e283c",
   "metadata": {},
   "outputs": [
    {
     "data": {
      "text/plain": [
       "array([[ 87,  96,  70],\n",
       "       [100,  87,  90]])"
      ]
     },
     "execution_count": 163,
     "metadata": {},
     "output_type": "execute_result"
    }
   ],
   "source": [
    "grades[0:2]"
   ]
  },
  {
   "cell_type": "markdown",
   "id": "5a6e9197",
   "metadata": {},
   "source": [
    "To select multiple non-sequential rows, use a list of row indices:"
   ]
  },
  {
   "cell_type": "code",
   "execution_count": 164,
   "id": "f66bb9f5",
   "metadata": {},
   "outputs": [
    {
     "data": {
      "text/plain": [
       "array([[100,  87,  90],\n",
       "       [100,  81,  82]])"
      ]
     },
     "execution_count": 164,
     "metadata": {},
     "output_type": "execute_result"
    }
   ],
   "source": [
    "grades[[1, 3]]"
   ]
  },
  {
   "cell_type": "markdown",
   "id": "bc67615b",
   "metadata": {},
   "source": [
    "Selecting a Subset of a Two-Dimensional array’s Columns"
   ]
  },
  {
   "cell_type": "markdown",
   "id": "6442e42c",
   "metadata": {},
   "source": [
    "You can select subsets of the columns by providing a tuple specifying the row(s) and column(s) to select. Each can be a specific index, a slice or a list"
   ]
  },
  {
   "cell_type": "code",
   "execution_count": 165,
   "id": "b07e5ef2",
   "metadata": {},
   "outputs": [
    {
     "data": {
      "text/plain": [
       "array([ 87, 100,  94, 100])"
      ]
     },
     "execution_count": 165,
     "metadata": {},
     "output_type": "execute_result"
    }
   ],
   "source": [
    "grades[:, 0]"
   ]
  },
  {
   "cell_type": "markdown",
   "id": "db71280f",
   "metadata": {},
   "source": [
    "You can select consecutive columns using a slice:"
   ]
  },
  {
   "cell_type": "code",
   "execution_count": 166,
   "id": "a3d41e0f",
   "metadata": {},
   "outputs": [
    {
     "data": {
      "text/plain": [
       "array([[96, 70],\n",
       "       [87, 90],\n",
       "       [77, 90],\n",
       "       [81, 82]])"
      ]
     },
     "execution_count": 166,
     "metadata": {},
     "output_type": "execute_result"
    }
   ],
   "source": [
    "grades[:, 1:3]"
   ]
  },
  {
   "cell_type": "markdown",
   "id": "eb357953",
   "metadata": {},
   "source": [
    "or specific columns using a list of column indices:"
   ]
  },
  {
   "cell_type": "code",
   "execution_count": 167,
   "id": "8f45be3c",
   "metadata": {},
   "outputs": [
    {
     "data": {
      "text/plain": [
       "array([[ 87,  70],\n",
       "       [100,  90],\n",
       "       [ 94,  90],\n",
       "       [100,  82]])"
      ]
     },
     "execution_count": 167,
     "metadata": {},
     "output_type": "execute_result"
    }
   ],
   "source": [
    "In [10]: grades[:, [0, 2]]"
   ]
  },
  {
   "cell_type": "markdown",
   "id": "a8565c25",
   "metadata": {},
   "source": [
    "Self Check: Given the following array:"
   ]
  },
  {
   "cell_type": "code",
   "execution_count": 169,
   "id": "da19253a",
   "metadata": {},
   "outputs": [],
   "source": [
    "array = ([[ 1, 2, 3, 4, 5],\n",
    "       [ 6, 7, 8, 9, 10],\n",
    "       [11, 12, 13, 14, 15]])"
   ]
  },
  {
   "cell_type": "markdown",
   "id": "1993c1bd",
   "metadata": {},
   "source": [
    "Select the second row."
   ]
  },
  {
   "cell_type": "code",
   "execution_count": 170,
   "id": "677c79b9",
   "metadata": {},
   "outputs": [],
   "source": [
    "import numpy as np"
   ]
  },
  {
   "cell_type": "code",
   "execution_count": null,
   "id": "3ce4f1e8",
   "metadata": {},
   "outputs": [],
   "source": [
    "array = ([[ 1, 2, 3, 4, 5],\n",
    "       [ 6, 7, 8, 9, 10],\n",
    "       [11, 12, 13, 14, 15]])"
   ]
  },
  {
   "cell_type": "code",
   "execution_count": 173,
   "id": "01810e4f",
   "metadata": {},
   "outputs": [
    {
     "data": {
      "text/plain": [
       "[[1, 2, 3, 4, 5], [6, 7, 8, 9, 10], [11, 12, 13, 14, 15]]"
      ]
     },
     "execution_count": 173,
     "metadata": {},
     "output_type": "execute_result"
    }
   ],
   "source": [
    "array"
   ]
  },
  {
   "cell_type": "code",
   "execution_count": 178,
   "id": "2f1fecbd",
   "metadata": {},
   "outputs": [
    {
     "data": {
      "text/plain": [
       "[6, 7, 8, 9, 10]"
      ]
     },
     "execution_count": 178,
     "metadata": {},
     "output_type": "execute_result"
    }
   ],
   "source": [
    "array[1]"
   ]
  },
  {
   "cell_type": "markdown",
   "id": "7ed79f04",
   "metadata": {},
   "source": [
    "Select the first and third rows."
   ]
  },
  {
   "cell_type": "code",
   "execution_count": 181,
   "id": "9ec7d2f4",
   "metadata": {},
   "outputs": [],
   "source": [
    "a = np.arange(1, 16).reshape(3, 5)"
   ]
  },
  {
   "cell_type": "code",
   "execution_count": 184,
   "id": "d26a54f1",
   "metadata": {},
   "outputs": [
    {
     "data": {
      "text/plain": [
       "array([[ 1,  2,  3,  4,  5],\n",
       "       [11, 12, 13, 14, 15]])"
      ]
     },
     "execution_count": 184,
     "metadata": {},
     "output_type": "execute_result"
    }
   ],
   "source": [
    "a[[0, 2]]"
   ]
  },
  {
   "cell_type": "markdown",
   "id": "11435e78",
   "metadata": {},
   "source": [
    "Select the middle three columns."
   ]
  },
  {
   "cell_type": "code",
   "execution_count": 185,
   "id": "6fcd87f8",
   "metadata": {},
   "outputs": [
    {
     "data": {
      "text/plain": [
       "array([[ 2,  3,  4],\n",
       "       [ 7,  8,  9],\n",
       "       [12, 13, 14]])"
      ]
     },
     "execution_count": 185,
     "metadata": {},
     "output_type": "execute_result"
    }
   ],
   "source": [
    "a[:, 1:4]"
   ]
  },
  {
   "cell_type": "markdown",
   "id": "d1723715",
   "metadata": {},
   "source": [
    "## 7.11 Views: Shallow Copies"
   ]
  },
  {
   "cell_type": "markdown",
   "id": "128f381e",
   "metadata": {},
   "source": [
    "The array method view returns a new array object with a view of the original array object’s data. First, let’s create an array and a view of that array:"
   ]
  },
  {
   "cell_type": "code",
   "execution_count": 186,
   "id": "4bfa614b",
   "metadata": {},
   "outputs": [],
   "source": [
    "import numpy as np"
   ]
  },
  {
   "cell_type": "code",
   "execution_count": 187,
   "id": "474dfea7",
   "metadata": {},
   "outputs": [],
   "source": [
    "numbers = np.arange(1, 6)"
   ]
  },
  {
   "cell_type": "code",
   "execution_count": 188,
   "id": "c9301515",
   "metadata": {},
   "outputs": [
    {
     "data": {
      "text/plain": [
       "array([1, 2, 3, 4, 5])"
      ]
     },
     "execution_count": 188,
     "metadata": {},
     "output_type": "execute_result"
    }
   ],
   "source": [
    "numbers"
   ]
  },
  {
   "cell_type": "code",
   "execution_count": 189,
   "id": "7aedd453",
   "metadata": {},
   "outputs": [],
   "source": [
    "numbers2 = numbers.view()"
   ]
  },
  {
   "cell_type": "code",
   "execution_count": 190,
   "id": "afa3532b",
   "metadata": {},
   "outputs": [
    {
     "data": {
      "text/plain": [
       "array([1, 2, 3, 4, 5])"
      ]
     },
     "execution_count": 190,
     "metadata": {},
     "output_type": "execute_result"
    }
   ],
   "source": [
    "numbers2"
   ]
  },
  {
   "cell_type": "markdown",
   "id": "9f9276b2",
   "metadata": {},
   "source": [
    "We can use the built-in id function to see that numbers and numbers2 are different objects:"
   ]
  },
  {
   "cell_type": "code",
   "execution_count": 191,
   "id": "02fc56be",
   "metadata": {},
   "outputs": [
    {
     "data": {
      "text/plain": [
       "2844621012592"
      ]
     },
     "execution_count": 191,
     "metadata": {},
     "output_type": "execute_result"
    }
   ],
   "source": [
    "id(numbers)"
   ]
  },
  {
   "cell_type": "code",
   "execution_count": 192,
   "id": "72a74d35",
   "metadata": {},
   "outputs": [
    {
     "data": {
      "text/plain": [
       "2844620816912"
      ]
     },
     "execution_count": 192,
     "metadata": {},
     "output_type": "execute_result"
    }
   ],
   "source": [
    "id(numbers2)"
   ]
  },
  {
   "cell_type": "markdown",
   "id": "6a3c9712",
   "metadata": {},
   "source": [
    "To prove that numbers2 views the same data as numbers, let’s modify an element in numbers, then display both arrays:"
   ]
  },
  {
   "cell_type": "code",
   "execution_count": 193,
   "id": "12c4faf4",
   "metadata": {},
   "outputs": [],
   "source": [
    "numbers[1] *= 10"
   ]
  },
  {
   "cell_type": "code",
   "execution_count": 194,
   "id": "58eb5d11",
   "metadata": {},
   "outputs": [
    {
     "data": {
      "text/plain": [
       "array([ 1, 20,  3,  4,  5])"
      ]
     },
     "execution_count": 194,
     "metadata": {},
     "output_type": "execute_result"
    }
   ],
   "source": [
    "numbers2"
   ]
  },
  {
   "cell_type": "code",
   "execution_count": 195,
   "id": "0c9e985b",
   "metadata": {},
   "outputs": [
    {
     "data": {
      "text/plain": [
       "array([ 1, 20,  3,  4,  5])"
      ]
     },
     "execution_count": 195,
     "metadata": {},
     "output_type": "execute_result"
    }
   ],
   "source": [
    "numbers"
   ]
  },
  {
   "cell_type": "markdown",
   "id": "f09076eb",
   "metadata": {},
   "source": [
    "Similarly, changing a value in the view also changes that value in the original array:"
   ]
  },
  {
   "cell_type": "code",
   "execution_count": 196,
   "id": "9927ad37",
   "metadata": {},
   "outputs": [],
   "source": [
    "numbers2[1] /= 10"
   ]
  },
  {
   "cell_type": "code",
   "execution_count": 197,
   "id": "0f2cc646",
   "metadata": {},
   "outputs": [
    {
     "data": {
      "text/plain": [
       "array([1, 2, 3, 4, 5])"
      ]
     },
     "execution_count": 197,
     "metadata": {},
     "output_type": "execute_result"
    }
   ],
   "source": [
    "numbers"
   ]
  },
  {
   "cell_type": "code",
   "execution_count": 198,
   "id": "302db6d3",
   "metadata": {},
   "outputs": [
    {
     "data": {
      "text/plain": [
       "array([1, 2, 3, 4, 5])"
      ]
     },
     "execution_count": 198,
     "metadata": {},
     "output_type": "execute_result"
    }
   ],
   "source": [
    "numbers2"
   ]
  },
  {
   "cell_type": "markdown",
   "id": "5f9271d8",
   "metadata": {},
   "source": [
    "Slice Views"
   ]
  },
  {
   "cell_type": "code",
   "execution_count": 199,
   "id": "b317770f",
   "metadata": {},
   "outputs": [],
   "source": [
    "numbers2 = numbers[0:3]"
   ]
  },
  {
   "cell_type": "code",
   "execution_count": 200,
   "id": "7b0bc3e4",
   "metadata": {},
   "outputs": [
    {
     "data": {
      "text/plain": [
       "array([1, 2, 3])"
      ]
     },
     "execution_count": 200,
     "metadata": {},
     "output_type": "execute_result"
    }
   ],
   "source": [
    "numbers2"
   ]
  },
  {
   "cell_type": "markdown",
   "id": "367e7ef4",
   "metadata": {},
   "source": [
    "Again, we can confirm that numbers and numbers2 are different objects with id:"
   ]
  },
  {
   "cell_type": "code",
   "execution_count": 201,
   "id": "3f019bee",
   "metadata": {},
   "outputs": [
    {
     "data": {
      "text/plain": [
       "2844621012592"
      ]
     },
     "execution_count": 201,
     "metadata": {},
     "output_type": "execute_result"
    }
   ],
   "source": [
    "id(numbers)"
   ]
  },
  {
   "cell_type": "code",
   "execution_count": 202,
   "id": "b20cba53",
   "metadata": {},
   "outputs": [
    {
     "data": {
      "text/plain": [
       "2844621012016"
      ]
     },
     "execution_count": 202,
     "metadata": {},
     "output_type": "execute_result"
    }
   ],
   "source": [
    "id(numbers2)"
   ]
  },
  {
   "cell_type": "markdown",
   "id": "09497bff",
   "metadata": {},
   "source": [
    "Now, let’s modify an element both arrays share, then display them. Again, we see that numbers2 is a view of numbers:"
   ]
  },
  {
   "cell_type": "code",
   "execution_count": 203,
   "id": "ee46adaf",
   "metadata": {},
   "outputs": [],
   "source": [
    "numbers[1] *= 20"
   ]
  },
  {
   "cell_type": "code",
   "execution_count": 204,
   "id": "209a24f2",
   "metadata": {},
   "outputs": [
    {
     "data": {
      "text/plain": [
       "array([ 1, 40,  3,  4,  5])"
      ]
     },
     "execution_count": 204,
     "metadata": {},
     "output_type": "execute_result"
    }
   ],
   "source": [
    "numbers"
   ]
  },
  {
   "cell_type": "code",
   "execution_count": 205,
   "id": "a1aa2274",
   "metadata": {},
   "outputs": [
    {
     "data": {
      "text/plain": [
       "array([ 1, 40,  3])"
      ]
     },
     "execution_count": 205,
     "metadata": {},
     "output_type": "execute_result"
    }
   ],
   "source": [
    " numbers2"
   ]
  },
  {
   "cell_type": "markdown",
   "id": "6645b55f",
   "metadata": {},
   "source": [
    "## 7.12 Deep Copies"
   ]
  },
  {
   "cell_type": "markdown",
   "id": "f6215fd1",
   "metadata": {},
   "source": [
    "when sharing mutable values, sometimes it’s necessary to create a deep copy with independent copies of the original data. "
   ]
  },
  {
   "cell_type": "markdown",
   "id": "e38b7c6b",
   "metadata": {},
   "source": [
    "The array method copy returns a new array object with a deep copy of the original array object’s data. First, let’s create an array and a deep copy of that array:"
   ]
  },
  {
   "cell_type": "code",
   "execution_count": 206,
   "id": "43088a2d",
   "metadata": {},
   "outputs": [],
   "source": [
    "import numpy as np"
   ]
  },
  {
   "cell_type": "code",
   "execution_count": 207,
   "id": "7113e961",
   "metadata": {},
   "outputs": [],
   "source": [
    "numbers = np.arange(1, 6)"
   ]
  },
  {
   "cell_type": "code",
   "execution_count": 208,
   "id": "aa7f3005",
   "metadata": {},
   "outputs": [
    {
     "data": {
      "text/plain": [
       "array([1, 2, 3, 4, 5])"
      ]
     },
     "execution_count": 208,
     "metadata": {},
     "output_type": "execute_result"
    }
   ],
   "source": [
    "numbers"
   ]
  },
  {
   "cell_type": "code",
   "execution_count": 209,
   "id": "181c48ea",
   "metadata": {},
   "outputs": [],
   "source": [
    "numbers2 = numbers.copy()"
   ]
  },
  {
   "cell_type": "code",
   "execution_count": 210,
   "id": "b4819bae",
   "metadata": {},
   "outputs": [
    {
     "data": {
      "text/plain": [
       "array([1, 2, 3, 4, 5])"
      ]
     },
     "execution_count": 210,
     "metadata": {},
     "output_type": "execute_result"
    }
   ],
   "source": [
    "numbers2"
   ]
  },
  {
   "cell_type": "markdown",
   "id": "131e7d8e",
   "metadata": {},
   "source": [
    "To prove that numbers2 has a separate copy of the data in numbers, let’s modify an element in numbers, then display both arrays:"
   ]
  },
  {
   "cell_type": "code",
   "execution_count": 211,
   "id": "856fbe1b",
   "metadata": {},
   "outputs": [],
   "source": [
    "numbers[1] *= 10"
   ]
  },
  {
   "cell_type": "code",
   "execution_count": 212,
   "id": "429dd3b3",
   "metadata": {},
   "outputs": [
    {
     "data": {
      "text/plain": [
       "array([ 1, 20,  3,  4,  5])"
      ]
     },
     "execution_count": 212,
     "metadata": {},
     "output_type": "execute_result"
    }
   ],
   "source": [
    "numbers #As you can see, the change appears only in numbers."
   ]
  },
  {
   "cell_type": "code",
   "execution_count": 213,
   "id": "30d587dd",
   "metadata": {},
   "outputs": [
    {
     "data": {
      "text/plain": [
       "array([1, 2, 3, 4, 5])"
      ]
     },
     "execution_count": 213,
     "metadata": {},
     "output_type": "execute_result"
    }
   ],
   "source": [
    "numbers2"
   ]
  },
  {
   "cell_type": "markdown",
   "id": "2e441aa1",
   "metadata": {},
   "source": [
    "Module copy—Shallow vs. Deep Copies for Other Types of Python Objects"
   ]
  },
  {
   "cell_type": "markdown",
   "id": "b69a9ad2",
   "metadata": {},
   "source": [
    "If you need deep copies of other types of Python objects, pass them to the copy module’s deepcopy function."
   ]
  },
  {
   "cell_type": "markdown",
   "id": "330b8f4a",
   "metadata": {},
   "source": [
    "## 7.13 Reshaping and Transposing"
   ]
  },
  {
   "cell_type": "markdown",
   "id": "b5c10f08",
   "metadata": {},
   "source": [
    "reshape vs. resize"
   ]
  },
  {
   "cell_type": "markdown",
   "id": "6076fdf3",
   "metadata": {},
   "source": [
    "The array methods reshape and resize both enable you to change an array’s dimensions. Method reshape returns a view (shallow copy) of the original array with the new dimensions. It does not modify the original array:"
   ]
  },
  {
   "cell_type": "code",
   "execution_count": 214,
   "id": "ef2f4012",
   "metadata": {},
   "outputs": [],
   "source": [
    "import numpy as np"
   ]
  },
  {
   "cell_type": "code",
   "execution_count": 215,
   "id": "6963e115",
   "metadata": {},
   "outputs": [],
   "source": [
    "grades = np.array([[87, 96, 70], [100, 87, 90]])"
   ]
  },
  {
   "cell_type": "code",
   "execution_count": 216,
   "id": "741a490e",
   "metadata": {},
   "outputs": [
    {
     "data": {
      "text/plain": [
       "array([[ 87,  96,  70],\n",
       "       [100,  87,  90]])"
      ]
     },
     "execution_count": 216,
     "metadata": {},
     "output_type": "execute_result"
    }
   ],
   "source": [
    "grades"
   ]
  },
  {
   "cell_type": "code",
   "execution_count": 217,
   "id": "ab2bdbe6",
   "metadata": {},
   "outputs": [
    {
     "data": {
      "text/plain": [
       "array([[ 87,  96,  70, 100,  87,  90]])"
      ]
     },
     "execution_count": 217,
     "metadata": {},
     "output_type": "execute_result"
    }
   ],
   "source": [
    "grades.reshape(1, 6)"
   ]
  },
  {
   "cell_type": "code",
   "execution_count": 218,
   "id": "d9bbbaa0",
   "metadata": {},
   "outputs": [
    {
     "data": {
      "text/plain": [
       "array([[ 87,  96,  70],\n",
       "       [100,  87,  90]])"
      ]
     },
     "execution_count": 218,
     "metadata": {},
     "output_type": "execute_result"
    }
   ],
   "source": [
    "grades"
   ]
  },
  {
   "cell_type": "markdown",
   "id": "abdb778a",
   "metadata": {},
   "source": [
    "Method resize modifies the original array’s shape:"
   ]
  },
  {
   "cell_type": "code",
   "execution_count": 219,
   "id": "903589c4",
   "metadata": {},
   "outputs": [],
   "source": [
    "grades.resize(1, 6)"
   ]
  },
  {
   "cell_type": "code",
   "execution_count": 220,
   "id": "70d06d71",
   "metadata": {},
   "outputs": [
    {
     "data": {
      "text/plain": [
       "array([[ 87,  96,  70, 100,  87,  90]])"
      ]
     },
     "execution_count": 220,
     "metadata": {},
     "output_type": "execute_result"
    }
   ],
   "source": [
    "grades"
   ]
  },
  {
   "cell_type": "markdown",
   "id": "4ef6a2b8",
   "metadata": {},
   "source": [
    "flatten vs. ravel"
   ]
  },
  {
   "cell_type": "markdown",
   "id": "16ac1a0c",
   "metadata": {},
   "source": [
    "You can take a multidimensional array and flatten it into a single dimension with the methods flatten and ravel. Method flatten deep copies the original array’s data:"
   ]
  },
  {
   "cell_type": "code",
   "execution_count": 221,
   "id": "6f3802df",
   "metadata": {},
   "outputs": [],
   "source": [
    "grades = np.array([[87, 96, 70], [100, 87, 90]])"
   ]
  },
  {
   "cell_type": "code",
   "execution_count": 222,
   "id": "50910788",
   "metadata": {},
   "outputs": [
    {
     "data": {
      "text/plain": [
       "array([[ 87,  96,  70],\n",
       "       [100,  87,  90]])"
      ]
     },
     "execution_count": 222,
     "metadata": {},
     "output_type": "execute_result"
    }
   ],
   "source": [
    "grades"
   ]
  },
  {
   "cell_type": "code",
   "execution_count": 223,
   "id": "012dfc27",
   "metadata": {},
   "outputs": [],
   "source": [
    "flattened = grades.flatten()"
   ]
  },
  {
   "cell_type": "code",
   "execution_count": 224,
   "id": "3fdd201e",
   "metadata": {},
   "outputs": [
    {
     "data": {
      "text/plain": [
       "array([ 87,  96,  70, 100,  87,  90])"
      ]
     },
     "execution_count": 224,
     "metadata": {},
     "output_type": "execute_result"
    }
   ],
   "source": [
    "flattened"
   ]
  },
  {
   "cell_type": "code",
   "execution_count": 225,
   "id": "07214cbc",
   "metadata": {},
   "outputs": [
    {
     "data": {
      "text/plain": [
       "array([[ 87,  96,  70],\n",
       "       [100,  87,  90]])"
      ]
     },
     "execution_count": 225,
     "metadata": {},
     "output_type": "execute_result"
    }
   ],
   "source": [
    "grades"
   ]
  },
  {
   "cell_type": "markdown",
   "id": "0f5f5356",
   "metadata": {},
   "source": [
    "To confirm that grades and flattened do not share the data, let’s modify an element of flattened, then display both arrays:"
   ]
  },
  {
   "cell_type": "code",
   "execution_count": 226,
   "id": "9a5c3ca4",
   "metadata": {},
   "outputs": [],
   "source": [
    "flattened[0] = 100"
   ]
  },
  {
   "cell_type": "code",
   "execution_count": 227,
   "id": "124f45ac",
   "metadata": {},
   "outputs": [
    {
     "data": {
      "text/plain": [
       "array([100,  96,  70, 100,  87,  90])"
      ]
     },
     "execution_count": 227,
     "metadata": {},
     "output_type": "execute_result"
    }
   ],
   "source": [
    "flattened"
   ]
  },
  {
   "cell_type": "code",
   "execution_count": 228,
   "id": "c7d9365e",
   "metadata": {},
   "outputs": [
    {
     "data": {
      "text/plain": [
       "array([[ 87,  96,  70],\n",
       "       [100,  87,  90]])"
      ]
     },
     "execution_count": 228,
     "metadata": {},
     "output_type": "execute_result"
    }
   ],
   "source": [
    "grades"
   ]
  },
  {
   "cell_type": "markdown",
   "id": "99ac6b1d",
   "metadata": {},
   "source": [
    "Method ravel produces a view of the original array, which shares the grades array’s data:"
   ]
  },
  {
   "cell_type": "code",
   "execution_count": 229,
   "id": "1344527c",
   "metadata": {},
   "outputs": [],
   "source": [
    "raveled = grades.ravel()"
   ]
  },
  {
   "cell_type": "code",
   "execution_count": 230,
   "id": "77960dd2",
   "metadata": {},
   "outputs": [
    {
     "data": {
      "text/plain": [
       "array([ 87,  96,  70, 100,  87,  90])"
      ]
     },
     "execution_count": 230,
     "metadata": {},
     "output_type": "execute_result"
    }
   ],
   "source": [
    "raveled"
   ]
  },
  {
   "cell_type": "code",
   "execution_count": 231,
   "id": "c3e69992",
   "metadata": {},
   "outputs": [
    {
     "data": {
      "text/plain": [
       "array([[ 87,  96,  70],\n",
       "       [100,  87,  90]])"
      ]
     },
     "execution_count": 231,
     "metadata": {},
     "output_type": "execute_result"
    }
   ],
   "source": [
    "grades"
   ]
  },
  {
   "cell_type": "markdown",
   "id": "0345b501",
   "metadata": {},
   "source": [
    "To confirm that grades and raveled share the same data, let’s modify an element of raveled, then display both arrays:"
   ]
  },
  {
   "cell_type": "code",
   "execution_count": 232,
   "id": "a3bf2930",
   "metadata": {},
   "outputs": [],
   "source": [
    "raveled[0] = 100"
   ]
  },
  {
   "cell_type": "code",
   "execution_count": 233,
   "id": "e0f1a5f3",
   "metadata": {},
   "outputs": [
    {
     "data": {
      "text/plain": [
       "array([100,  96,  70, 100,  87,  90])"
      ]
     },
     "execution_count": 233,
     "metadata": {},
     "output_type": "execute_result"
    }
   ],
   "source": [
    "raveled"
   ]
  },
  {
   "cell_type": "code",
   "execution_count": 234,
   "id": "2e6a2deb",
   "metadata": {},
   "outputs": [
    {
     "data": {
      "text/plain": [
       "array([[100,  96,  70],\n",
       "       [100,  87,  90]])"
      ]
     },
     "execution_count": 234,
     "metadata": {},
     "output_type": "execute_result"
    }
   ],
   "source": [
    "grades"
   ]
  },
  {
   "cell_type": "markdown",
   "id": "0efb3157",
   "metadata": {},
   "source": [
    "Transposing Rows and Columns"
   ]
  },
  {
   "cell_type": "markdown",
   "id": "22a464d2",
   "metadata": {},
   "source": [
    "The T attribute returns a transposed view (shallow copy) of the array. The original grades array represents two students’ grades (the rows) on three exams (the columns). "
   ]
  },
  {
   "cell_type": "code",
   "execution_count": 235,
   "id": "72b01549",
   "metadata": {},
   "outputs": [
    {
     "data": {
      "text/plain": [
       "array([[100, 100],\n",
       "       [ 96,  87],\n",
       "       [ 70,  90]])"
      ]
     },
     "execution_count": 235,
     "metadata": {},
     "output_type": "execute_result"
    }
   ],
   "source": [
    "grades.T"
   ]
  },
  {
   "cell_type": "code",
   "execution_count": 236,
   "id": "ca80d3df",
   "metadata": {},
   "outputs": [
    {
     "data": {
      "text/plain": [
       "array([[100,  96,  70],\n",
       "       [100,  87,  90]])"
      ]
     },
     "execution_count": 236,
     "metadata": {},
     "output_type": "execute_result"
    }
   ],
   "source": [
    "grades"
   ]
  },
  {
   "cell_type": "markdown",
   "id": "fc857acd",
   "metadata": {},
   "source": [
    "Horizontal and Vertical Stacking"
   ]
  },
  {
   "cell_type": "markdown",
   "id": "899ff545",
   "metadata": {},
   "source": [
    "You can combine arrays by adding more columns or more rows—known as horizontal stacking and vertical stacking. "
   ]
  },
  {
   "cell_type": "code",
   "execution_count": 237,
   "id": "9dda99b6",
   "metadata": {},
   "outputs": [],
   "source": [
    "grades2 = np.array([[94, 77, 90], [100, 81, 82]])"
   ]
  },
  {
   "cell_type": "code",
   "execution_count": 238,
   "id": "ae4b89f6",
   "metadata": {},
   "outputs": [
    {
     "data": {
      "text/plain": [
       "array([[100,  96,  70,  94,  77,  90],\n",
       "       [100,  87,  90, 100,  81,  82]])"
      ]
     },
     "execution_count": 238,
     "metadata": {},
     "output_type": "execute_result"
    }
   ],
   "source": [
    "np.hstack((grades, grades2))"
   ]
  },
  {
   "cell_type": "code",
   "execution_count": 239,
   "id": "d369632a",
   "metadata": {},
   "outputs": [
    {
     "data": {
      "text/plain": [
       "array([[100,  96,  70],\n",
       "       [100,  87,  90],\n",
       "       [ 94,  77,  90],\n",
       "       [100,  81,  82]])"
      ]
     },
     "execution_count": 239,
     "metadata": {},
     "output_type": "execute_result"
    }
   ],
   "source": [
    "np.vstack((grades, grades2))"
   ]
  },
  {
   "cell_type": "markdown",
   "id": "5ec79653",
   "metadata": {},
   "source": [
    "Self Check: Given a 2-by-3 array: "
   ]
  },
  {
   "cell_type": "markdown",
   "id": "f6cc8d52",
   "metadata": {},
   "source": [
    "array([[1, 2, 3],\n",
    "       [4, 5, 6]])"
   ]
  },
  {
   "cell_type": "markdown",
   "id": "1a34dffe",
   "metadata": {},
   "source": [
    "use hstack and vstack to produce the following array:\n",
    "array([[1, 2, 3, 1, 2, 3],\n",
    "       [4, 5, 6, 4, 5, 6],\n",
    "       [1, 2, 3, 1, 2, 3],\n",
    "       [4, 5, 6, 4, 5, 6]])\n",
    "    "
   ]
  },
  {
   "cell_type": "code",
   "execution_count": 241,
   "id": "b1b0f3d0",
   "metadata": {},
   "outputs": [],
   "source": [
    "import numpy as np"
   ]
  },
  {
   "cell_type": "code",
   "execution_count": 242,
   "id": "2dc954cc",
   "metadata": {},
   "outputs": [],
   "source": [
    "a = np.arange(1, 7).reshape(2, 3)"
   ]
  },
  {
   "cell_type": "code",
   "execution_count": 243,
   "id": "28b3bedb",
   "metadata": {},
   "outputs": [],
   "source": [
    "a = np.hstack((a, a))"
   ]
  },
  {
   "cell_type": "code",
   "execution_count": 244,
   "id": "6b126044",
   "metadata": {},
   "outputs": [],
   "source": [
    "a = np.vstack((a, a))"
   ]
  },
  {
   "cell_type": "code",
   "execution_count": 245,
   "id": "03b66049",
   "metadata": {},
   "outputs": [
    {
     "data": {
      "text/plain": [
       "array([[1, 2, 3, 1, 2, 3],\n",
       "       [4, 5, 6, 4, 5, 6],\n",
       "       [1, 2, 3, 1, 2, 3],\n",
       "       [4, 5, 6, 4, 5, 6]])"
      ]
     },
     "execution_count": 245,
     "metadata": {},
     "output_type": "execute_result"
    }
   ],
   "source": [
    "a"
   ]
  },
  {
   "cell_type": "markdown",
   "id": "bce53ab5",
   "metadata": {},
   "source": [
    "## 7.14 Intro to Data Science: pandas Series and DataFrames"
   ]
  },
  {
   "cell_type": "markdown",
   "id": "014c5044",
   "metadata": {},
   "source": [
    "See py files named project part 1 and project part 2"
   ]
  }
 ],
 "metadata": {
  "kernelspec": {
   "display_name": "Python 3 (ipykernel)",
   "language": "python",
   "name": "python3"
  },
  "language_info": {
   "codemirror_mode": {
    "name": "ipython",
    "version": 3
   },
   "file_extension": ".py",
   "mimetype": "text/x-python",
   "name": "python",
   "nbconvert_exporter": "python",
   "pygments_lexer": "ipython3",
   "version": "3.9.12"
  }
 },
 "nbformat": 4,
 "nbformat_minor": 5
}
